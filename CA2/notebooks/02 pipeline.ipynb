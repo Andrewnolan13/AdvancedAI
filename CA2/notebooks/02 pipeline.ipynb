{
 "cells": [
  {
   "cell_type": "code",
   "execution_count": 2,
   "id": "aa8568a4",
   "metadata": {},
   "outputs": [],
   "source": [
    "import torch\n",
    "import torch.nn as nn\n",
    "import torch.optim as optim\n",
    "import torchvision.transforms as transforms\n",
    "from torch.utils.data import DataLoader, Dataset\n",
    "import pandas as pd\n",
    "import numpy as np\n",
    "from sklearn.model_selection import train_test_split\n",
    "from sklearn.preprocessing._data import BaseEstimator, TransformerMixin, OneToOneFeatureMixin\n",
    "from sklearn.preprocessing import StandardScaler, MinMaxScaler, RobustScaler\n"
   ]
  },
  {
   "cell_type": "code",
   "execution_count": null,
   "id": "20112027",
   "metadata": {},
   "outputs": [],
   "source": [
    "TrainingData = pd.read_pickle('../data/02 Processed/train.pkl')\n",
    "FinalTestData = pd.read_pickle('../data/02 Processed/testData.pkl')\n",
    "FinalTestData.drop(columns = 'usage', inplace = True)\n",
    "# s = TrainingData.iloc[:1000].copy()\n",
    "# del TrainingData\n",
    "# TrainingData = s.copy()\n",
    "# del s\n",
    "\n",
    "FinalTestData.shape, TrainingData.shape\n",
    "TrainingDataCheckPoint = TrainingData.copy()"
   ]
  },
  {
   "cell_type": "code",
   "execution_count": 8,
   "id": "25a6d3f4",
   "metadata": {},
   "outputs": [],
   "source": [
    "big,small = train_test_split(TrainingData, test_size=0.02, stratify=TrainingData['emotion'], random_state=42)"
   ]
  },
  {
   "cell_type": "code",
   "execution_count": 11,
   "id": "c602de3d",
   "metadata": {},
   "outputs": [
    {
     "data": {
      "text/plain": [
       "<Axes: xlabel='emotion'>"
      ]
     },
     "execution_count": 11,
     "metadata": {},
     "output_type": "execute_result"
    },
    {
     "data": {
      "image/png": "[encoded data removed]",
      "text/plain": [
       "<Figure size 640x480 with 1 Axes>"
      ]
     },
     "metadata": {},
     "output_type": "display_data"
    }
   ],
   "source": [
    "small.emotion.value_counts().plot(kind='bar')"
   ]
  },
  {
   "cell_type": "code",
   "execution_count": 12,
   "id": "27394554",
   "metadata": {},
   "outputs": [
    {
     "data": {
      "text/plain": [
       "<Axes: xlabel='emotion'>"
      ]
     },
     "execution_count": 12,
     "metadata": {},
     "output_type": "execute_result"
    },
    {
     "data": {
      "image/png": "[encoded data removed]",
      "text/plain": [
       "<Figure size 640x480 with 1 Axes>"
      ]
     },
     "metadata": {},
     "output_type": "display_data"
    }
   ],
   "source": [
    "big.emotion.value_counts().plot(kind='bar')"
   ]
  },
  {
   "cell_type": "code",
   "execution_count": 13,
   "id": "9656fb13",
   "metadata": {},
   "outputs": [],
   "source": [
    "TrainingData = small"
   ]
  },
  {
   "cell_type": "code",
   "execution_count": 89,
   "id": "87deac1b",
   "metadata": {},
   "outputs": [],
   "source": [
    "TrainingData = TrainingData.iloc[:5]"
   ]
  },
  {
   "cell_type": "code",
   "execution_count": 101,
   "id": "a458fcbd",
   "metadata": {},
   "outputs": [],
   "source": [
    "TrainingData = small"
   ]
  },
  {
   "cell_type": "code",
   "execution_count": 102,
   "id": "1a7877e0",
   "metadata": {},
   "outputs": [],
   "source": [
    "class CustomScaler(OneToOneFeatureMixin, TransformerMixin, BaseEstimator):\n",
    "    def __init__(self, mu: float, sigma: float):\n",
    "        self.mu = mu\n",
    "        self.sigma = sigma\n",
    "        self.__mean = None\n",
    "        self.__std = None\n",
    "        self.__fitted = False\n",
    "    \n",
    "    @property\n",
    "    def _fitted(self)->bool:\n",
    "        return self.__fitted\n",
    "    \n",
    "    @_fitted.setter\n",
    "    def _fitted(self, value: bool):\n",
    "        if self.__fitted:\n",
    "            raise AttributeError(\"The 'fit' method has already been called.\")\n",
    "        if not isinstance(value, bool):\n",
    "            raise TypeError(\"The 'fitted' attribute must be a boolean.\")\n",
    "        self.__fitted = value\n",
    "\n",
    "    @property\n",
    "    def _mean(self)->np.ndarray:\n",
    "        '''\n",
    "        mean of the passed data\n",
    "        '''\n",
    "        if self.__mean is None:\n",
    "            raise AttributeError(\"The 'fit' method must be called before accessing the mean.\")\n",
    "        return self.__mean\n",
    "    \n",
    "    @property\n",
    "    def _std(self)->np.ndarray:\n",
    "        '''\n",
    "        std of the passed data\n",
    "        '''\n",
    "        if self.__std is None:\n",
    "            raise AttributeError(\"The 'fit' method must be called before accessing the std.\")\n",
    "        return self.__std\n",
    "\n",
    "    def fit(self, X: np.ndarray)-> 'CustomScaler':\n",
    "        self._fitted = True\n",
    "        self.__mean = X.mean(axis=0)\n",
    "        self.__std = X.std(axis=0)\n",
    "        return self\n",
    "    \n",
    "    def transform(self, X: np.ndarray)-> np.ndarray:\n",
    "        newX = X - self._mean\n",
    "        newX = (newX / self._std) * self.sigma\n",
    "        return newX+self.mu\n",
    "\n",
    "    def fit_transform(self, X:np.ndarray) -> np.ndarray:\n",
    "        self.fit(X)\n",
    "        return self.transform(X)\n",
    "    \n",
    "    def inverse_transform(self, X:np.ndarray) -> np.ndarray:\n",
    "        newX = X - self.mu\n",
    "        newX = (newX / self._std) * self.sigma\n",
    "        return newX + self._mean\n",
    "\n",
    "class Data(Dataset):\n",
    "    _identityFunc = lambda x: x\n",
    "    def __init__(self,data:pd.DataFrame, transform:transforms = None, scaler:BaseEstimator = None):\n",
    "        # making them private so can't be altered\n",
    "        if not scaler:\n",
    "            scaler = CustomScaler(0, 0.25)\n",
    "\n",
    "        self.__transform = transform if transform else Data._identityFunc\n",
    "        self.__Y = data['emotion'].astype(int).values.tolist()\n",
    "        self.__X = data.pixels.str.split().explode().astype(np.uint8).values.reshape(-1,48,48)\n",
    "        self.__len = data.shape[0]\n",
    "        try:\n",
    "            self.__X = scaler.fit_transform(self.__X).astype(np.float32)\n",
    "        except AttributeError:\n",
    "            print(\"Already fit\")\n",
    "            self.__X = scaler.transform(self.__X).astype(np.float32)\n",
    "\n",
    "    def __len__(self)->int:\n",
    "        return self.__len\n",
    "\n",
    "    def __getitem__(self, index)->tuple[np.ndarray,np.ndarray]:\n",
    "        img:np.ndarray = self.__X[index]\n",
    "        emotion:int = self.__Y[index]\n",
    "        label = np.zeros((7,), dtype=np.float32)\n",
    "        label[emotion] = 1\n",
    "        return self.__transform(img), label\n",
    "\n",
    "class CNN(nn.Module):\n",
    "    def __init__(self, num_classes):\n",
    "        super(CNN, self).__init__()\n",
    "\n",
    "        self.conv1 = nn.Sequential(\n",
    "            nn.Conv2d(1, 16, kernel_size=5, padding=2),\n",
    "            nn.ReLU(),\n",
    "            nn.MaxPool2d(2, 2)\n",
    "        )\n",
    "        self.conv2 = nn.Sequential(\n",
    "            nn.Conv2d(16, 32, kernel_size=3, padding=1),\n",
    "            nn.ReLU(),\n",
    "            nn.MaxPool2d(2, 2)\n",
    "        )\n",
    "        self.fc1 = nn.Sequential(\n",
    "            nn.Linear(32 * 12 * 12, 256),\n",
    "            nn.LeakyReLU(),\n",
    "        )\n",
    "        self.fc2 = nn.Sequential(\n",
    "            nn.Linear(256, 100),\n",
    "            nn.Sigmoid()\n",
    "        )\n",
    "        self.fc3 = nn.Sequential(\n",
    "            nn.Linear(100, num_classes),\n",
    "            nn.Softmax(dim=1)\n",
    "        )\n",
    "\n",
    "    def forward(self, x):\n",
    "        x = self.conv1(x)\n",
    "        x = self.conv2(x)\n",
    "        x = x.flatten(start_dim=1)\n",
    "        x = self.fc1(x)\n",
    "        x = self.fc2(x)\n",
    "        x = self.fc3(x)\n",
    "        return x\n",
    "    \n"
   ]
  },
  {
   "cell_type": "code",
   "execution_count": 122,
   "id": "135cd1e9",
   "metadata": {},
   "outputs": [],
   "source": [
    "\n",
    "def train(model, dataloader, criterion, optimizer, device):\n",
    "    model.train()\n",
    "    running_loss = 0.0\n",
    "    for images, labels in dataloader:\n",
    "        images, labels = images.to(device), labels.to(device)\n",
    "        optimizer.zero_grad()\n",
    "        outputs = model(images)\n",
    "        loss = criterion(outputs, labels)\n",
    "        loss.backward()\n",
    "        optimizer.step()\n",
    "        running_loss += loss.item()\n",
    "\n",
    "        # get accuracy\n",
    "        predicted = outputs.argmax(axis=1)\n",
    "        target = labels.argmax(axis=1)\n",
    "        correct = (predicted == target).sum().item()\n",
    "        accuracy = correct / labels.size(0)\n",
    "    return running_loss / len(dataloader), accuracy\n",
    "\n",
    "def evaluate(model, dataloader, criterion, device):\n",
    "    model.eval()\n",
    "    running_loss = 0.0\n",
    "    correct = 0\n",
    "    total = 0\n",
    "    with torch.no_grad():\n",
    "      for images, labels in dataloader:\n",
    "          images, labels = images.to(device), labels.to(device)\n",
    "          outputs = model(images)\n",
    "          loss = criterion(outputs, labels)\n",
    "          running_loss += loss.item()\n",
    "          predicted = outputs.argmax(axis=1)\n",
    "          total += labels.size(0)\n",
    "          correct += (predicted == labels.argmax(axis = 1)).sum().item()\n",
    "\n",
    "    return running_loss / len(dataloader), correct / total"
   ]
  },
  {
   "cell_type": "code",
   "execution_count": 104,
   "id": "0f5fce7e",
   "metadata": {},
   "outputs": [],
   "source": [
    "class CustomLoss(nn.Module):\n",
    "    '''\n",
    "    nn.CrossEntropyLosss is annoying me the way it expects labels\n",
    "    it also does the softmax part itself.\n",
    "\n",
    "    this class expects two R^n vectors or two arrays of R^n vectors\n",
    "    it then penalises the difference using negative log liklihood\n",
    "    '''\n",
    "    def __init__(self):\n",
    "        super(CustomLoss, self).__init__()\n",
    "    def forward(self, probabilites:torch.Tensor, target:torch.Tensor)->torch.Tensor:\n",
    "        '''\n",
    "        probabilites: R^n\n",
    "        target: R^n\n",
    "        '''\n",
    "        # print(probabilites)\n",
    "        # print(target)\n",
    "        # print(probabilites.shape)\n",
    "        # print(target.shape)\n",
    "        return -torch.sum(target * torch.log(probabilites + 1e-10), dim=1).mean()"
   ]
  },
  {
   "cell_type": "code",
   "execution_count": null,
   "id": "cacbb424",
   "metadata": {},
   "outputs": [
    {
     "name": "stdout",
     "output_type": "stream",
     "text": [
      "fitting scaler\n",
      "making dataset\n",
      "Already fit\n",
      "Already fit\n",
      "making dataloader\n",
      "making model\n",
      "backward\n",
      "Epoch [1/100],     Train Loss: 1.9759,     Test Loss: 2.0018,     Accuracy: 0.2288\n",
      "Epoch [2/100],     Train Loss: 2.2109,     Test Loss: 1.9555,     Accuracy: 0.1115\n",
      "Epoch [3/100],     Train Loss: 1.9549,     Test Loss: 1.9796,     Accuracy: 0.0152\n",
      "Epoch [4/100],     Train Loss: 1.9487,     Test Loss: 1.9580,     Accuracy: 0.0152\n",
      "Epoch [5/100],     Train Loss: 1.9485,     Test Loss: 1.9412,     Accuracy: 0.2335\n",
      "Epoch [6/100],     Train Loss: 1.9454,     Test Loss: 1.9340,     Accuracy: 0.1861\n",
      "Epoch [7/100],     Train Loss: 1.9438,     Test Loss: 1.9321,     Accuracy: 0.1747\n",
      "Epoch [8/100],     Train Loss: 1.9420,     Test Loss: 1.9350,     Accuracy: 0.1651\n",
      "Epoch [9/100],     Train Loss: 1.9372,     Test Loss: 1.9383,     Accuracy: 0.1806\n",
      "Epoch [10/100],     Train Loss: 1.9287,     Test Loss: 1.9316,     Accuracy: 0.1780\n",
      "Epoch [11/100],     Train Loss: 1.9223,     Test Loss: 1.9225,     Accuracy: 0.1673\n",
      "Epoch [12/100],     Train Loss: 1.9154,     Test Loss: 1.8939,     Accuracy: 0.2158\n",
      "Epoch [13/100],     Train Loss: 1.9049,     Test Loss: 1.8720,     Accuracy: 0.2211\n",
      "Epoch [14/100],     Train Loss: 1.8967,     Test Loss: 1.8770,     Accuracy: 0.2069\n",
      "Epoch [15/100],     Train Loss: 1.8855,     Test Loss: 1.9101,     Accuracy: 0.1712\n",
      "Epoch [16/100],     Train Loss: 1.8796,     Test Loss: 1.8857,     Accuracy: 0.2173\n",
      "Epoch [17/100],     Train Loss: 1.8842,     Test Loss: 1.8768,     Accuracy: 0.1995\n",
      "Epoch [18/100],     Train Loss: 1.8684,     Test Loss: 1.8802,     Accuracy: 0.1982\n",
      "Epoch [19/100],     Train Loss: 1.8575,     Test Loss: 1.8590,     Accuracy: 0.2138\n",
      "Epoch [20/100],     Train Loss: 1.8509,     Test Loss: 1.8355,     Accuracy: 0.2208\n",
      "Epoch [21/100],     Train Loss: 1.8389,     Test Loss: 1.8681,     Accuracy: 0.1948\n",
      "Epoch [22/100],     Train Loss: 1.8302,     Test Loss: 1.8651,     Accuracy: 0.2091\n",
      "Epoch [23/100],     Train Loss: 1.8235,     Test Loss: 1.7986,     Accuracy: 0.2629\n",
      "Epoch [24/100],     Train Loss: 1.8101,     Test Loss: 1.7966,     Accuracy: 0.2577\n",
      "Epoch [25/100],     Train Loss: 1.8004,     Test Loss: 1.8369,     Accuracy: 0.2374\n",
      "Epoch [26/100],     Train Loss: 1.7897,     Test Loss: 1.8271,     Accuracy: 0.2363\n",
      "Epoch [27/100],     Train Loss: 1.7781,     Test Loss: 1.7752,     Accuracy: 0.2838\n",
      "Epoch [28/100],     Train Loss: 1.7660,     Test Loss: 1.8028,     Accuracy: 0.2588\n",
      "Epoch [29/100],     Train Loss: 1.7554,     Test Loss: 1.7954,     Accuracy: 0.2621\n",
      "Epoch [30/100],     Train Loss: 1.7459,     Test Loss: 1.7917,     Accuracy: 0.2781\n",
      "Epoch [31/100],     Train Loss: 1.7426,     Test Loss: 1.7437,     Accuracy: 0.3038\n",
      "Epoch [32/100],     Train Loss: 1.7271,     Test Loss: 1.7981,     Accuracy: 0.2662\n",
      "Epoch [33/100],     Train Loss: 1.7089,     Test Loss: 1.7613,     Accuracy: 0.2966\n",
      "Epoch [34/100],     Train Loss: 1.6944,     Test Loss: 1.7128,     Accuracy: 0.3309\n",
      "Epoch [35/100],     Train Loss: 1.6896,     Test Loss: 1.7724,     Accuracy: 0.2906\n",
      "Epoch [36/100],     Train Loss: 1.6630,     Test Loss: 1.7484,     Accuracy: 0.3098\n",
      "Epoch [37/100],     Train Loss: 1.6574,     Test Loss: 1.7301,     Accuracy: 0.3238\n",
      "Epoch [38/100],     Train Loss: 1.6487,     Test Loss: 1.7248,     Accuracy: 0.3378\n",
      "Epoch [39/100],     Train Loss: 1.6419,     Test Loss: 1.8136,     Accuracy: 0.2926\n",
      "Epoch [40/100],     Train Loss: 1.6429,     Test Loss: 1.7058,     Accuracy: 0.3275\n",
      "Epoch [41/100],     Train Loss: 1.5982,     Test Loss: 1.6934,     Accuracy: 0.3565\n",
      "Epoch [42/100],     Train Loss: 1.6115,     Test Loss: 1.7572,     Accuracy: 0.3162\n",
      "Epoch [43/100],     Train Loss: 1.5792,     Test Loss: 1.7297,     Accuracy: 0.3164\n",
      "Epoch [44/100],     Train Loss: 1.5708,     Test Loss: 1.7074,     Accuracy: 0.3363\n",
      "Epoch [45/100],     Train Loss: 1.5479,     Test Loss: 1.6615,     Accuracy: 0.3665\n",
      "Epoch [46/100],     Train Loss: 1.5343,     Test Loss: 1.7411,     Accuracy: 0.3327\n",
      "Epoch [47/100],     Train Loss: 1.5227,     Test Loss: 1.6700,     Accuracy: 0.3479\n",
      "Epoch [48/100],     Train Loss: 1.4985,     Test Loss: 1.7438,     Accuracy: 0.3303\n",
      "Epoch [49/100],     Train Loss: 1.5029,     Test Loss: 1.6196,     Accuracy: 0.3773\n",
      "Epoch [50/100],     Train Loss: 1.4785,     Test Loss: 1.7611,     Accuracy: 0.3285\n",
      "Epoch [51/100],     Train Loss: 1.4601,     Test Loss: 1.6831,     Accuracy: 0.3608\n",
      "Epoch [52/100],     Train Loss: 1.4179,     Test Loss: 1.6389,     Accuracy: 0.3734\n",
      "Epoch [53/100],     Train Loss: 1.4293,     Test Loss: 1.7033,     Accuracy: 0.3564\n",
      "Epoch [54/100],     Train Loss: 1.3853,     Test Loss: 1.7162,     Accuracy: 0.3461\n",
      "Epoch [55/100],     Train Loss: 1.3708,     Test Loss: 1.6636,     Accuracy: 0.3706\n",
      "Epoch [56/100],     Train Loss: 1.3413,     Test Loss: 1.7578,     Accuracy: 0.3433\n",
      "Epoch [57/100],     Train Loss: 1.3458,     Test Loss: 1.6145,     Accuracy: 0.3781\n",
      "Epoch [58/100],     Train Loss: 1.3836,     Test Loss: 1.8391,     Accuracy: 0.3215\n",
      "Epoch [59/100],     Train Loss: 1.3249,     Test Loss: 1.6948,     Accuracy: 0.3628\n",
      "Epoch [60/100],     Train Loss: 1.2579,     Test Loss: 1.6325,     Accuracy: 0.3767\n",
      "Epoch [61/100],     Train Loss: 1.2602,     Test Loss: 1.7166,     Accuracy: 0.3643\n",
      "Epoch [62/100],     Train Loss: 1.2212,     Test Loss: 1.7592,     Accuracy: 0.3592\n",
      "Epoch [63/100],     Train Loss: 1.1939,     Test Loss: 1.6823,     Accuracy: 0.3661\n",
      "Epoch [64/100],     Train Loss: 1.1849,     Test Loss: 1.7111,     Accuracy: 0.3671\n",
      "Epoch [65/100],     Train Loss: 1.1408,     Test Loss: 1.7340,     Accuracy: 0.3647\n",
      "Epoch [66/100],     Train Loss: 1.1113,     Test Loss: 1.7529,     Accuracy: 0.3615\n",
      "Epoch [67/100],     Train Loss: 1.0935,     Test Loss: 1.7865,     Accuracy: 0.3519\n",
      "Epoch [68/100],     Train Loss: 1.1016,     Test Loss: 1.9049,     Accuracy: 0.3306\n",
      "Epoch [69/100],     Train Loss: 1.2017,     Test Loss: 1.6698,     Accuracy: 0.3760\n",
      "Epoch [70/100],     Train Loss: 1.1475,     Test Loss: 1.8571,     Accuracy: 0.3462\n",
      "Epoch [71/100],     Train Loss: 1.1199,     Test Loss: 1.8968,     Accuracy: 0.3357\n",
      "Epoch [72/100],     Train Loss: 1.0693,     Test Loss: 1.7771,     Accuracy: 0.3618\n",
      "Epoch [73/100],     Train Loss: 1.0054,     Test Loss: 1.8299,     Accuracy: 0.3504\n",
      "Epoch [74/100],     Train Loss: 1.0399,     Test Loss: 1.7805,     Accuracy: 0.3653\n",
      "Epoch [75/100],     Train Loss: 0.9694,     Test Loss: 1.8230,     Accuracy: 0.3621\n",
      "Epoch [76/100],     Train Loss: 0.9155,     Test Loss: 1.9121,     Accuracy: 0.3408\n",
      "Epoch [77/100],     Train Loss: 0.9144,     Test Loss: 1.8436,     Accuracy: 0.3607\n",
      "Epoch [78/100],     Train Loss: 0.8791,     Test Loss: 1.8373,     Accuracy: 0.3656\n",
      "Epoch [79/100],     Train Loss: 0.8430,     Test Loss: 1.8946,     Accuracy: 0.3657\n",
      "Epoch [80/100],     Train Loss: 0.7965,     Test Loss: 1.9619,     Accuracy: 0.3536\n",
      "Epoch [81/100],     Train Loss: 0.7788,     Test Loss: 1.9073,     Accuracy: 0.3663\n",
      "Epoch [82/100],     Train Loss: 0.7445,     Test Loss: 1.9647,     Accuracy: 0.3515\n",
      "Epoch [83/100],     Train Loss: 0.7244,     Test Loss: 1.9887,     Accuracy: 0.3612\n",
      "Epoch [84/100],     Train Loss: 0.7413,     Test Loss: 2.1295,     Accuracy: 0.3342\n",
      "Epoch [85/100],     Train Loss: 0.7665,     Test Loss: 2.0942,     Accuracy: 0.3479\n",
      "Epoch [86/100],     Train Loss: 0.7112,     Test Loss: 1.9766,     Accuracy: 0.3729\n",
      "Epoch [87/100],     Train Loss: 0.6341,     Test Loss: 2.2467,     Accuracy: 0.3189\n",
      "Epoch [88/100],     Train Loss: 0.7032,     Test Loss: 2.0568,     Accuracy: 0.3628\n",
      "Epoch [89/100],     Train Loss: 0.5988,     Test Loss: 2.1034,     Accuracy: 0.3572\n",
      "Epoch [90/100],     Train Loss: 0.5722,     Test Loss: 2.1852,     Accuracy: 0.3370\n",
      "Epoch [91/100],     Train Loss: 0.5456,     Test Loss: 2.1084,     Accuracy: 0.3523\n",
      "Epoch [92/100],     Train Loss: 0.5068,     Test Loss: 2.1602,     Accuracy: 0.3566\n",
      "Epoch [93/100],     Train Loss: 0.5010,     Test Loss: 2.1795,     Accuracy: 0.3578\n",
      "Epoch [94/100],     Train Loss: 0.4476,     Test Loss: 2.2332,     Accuracy: 0.3481\n",
      "Epoch [95/100],     Train Loss: 0.4429,     Test Loss: 2.2364,     Accuracy: 0.3554\n",
      "Epoch [96/100],     Train Loss: 0.4006,     Test Loss: 2.2162,     Accuracy: 0.3635\n",
      "Epoch [97/100],     Train Loss: 0.3915,     Test Loss: 2.2812,     Accuracy: 0.3546\n",
      "Epoch [98/100],     Train Loss: 0.3503,     Test Loss: 2.3901,     Accuracy: 0.3380\n",
      "Epoch [99/100],     Train Loss: 0.3443,     Test Loss: 2.3460,     Accuracy: 0.3566\n",
      "Epoch [100/100],     Train Loss: 0.3108,     Test Loss: 2.3544,     Accuracy: 0.3614\n"
     ]
    }
   ],
   "source": [
    "transformers = transforms.Compose([\n",
    "    transforms.ToTensor(),\n",
    "])\n",
    "\n",
    "print('fitting scaler')\n",
    "scaler = CustomScaler(0, 0.25) #<- Pretty good - 37% accuracy on test set, 95% on training set\n",
    "\n",
    "scaler.fit(TrainingData.pixels.str.split().explode().astype(np.uint8).values.reshape(-1,48,48))\n",
    "\n",
    "print('making dataset')\n",
    "train_data = Data(TrainingData, transform=transformers, scaler=scaler)\n",
    "test_data = Data(FinalTestData, transform=transformers, scaler=scaler)\n",
    "\n",
    "print('making dataloader')\n",
    "train_loader = DataLoader(train_data, shuffle = True, batch_size=503370)\n",
    "test_loader = DataLoader(test_data, batch_size=7178, shuffle = True)\n",
    "\n",
    "print('making model')\n",
    "num_classes = 7\n",
    "device = torch.device('cuda' if torch.cuda.is_available() else 'cpu')\n",
    "model = CNN(num_classes).to(device)\n",
    "# criterion = nn.CrossEntropyLoss()\n",
    "criterion = CustomLoss()\n",
    "optimizer = optim.Adam(model.parameters(), lr=.01)\n",
    "\n",
    "num_epochs = 100\n",
    "\n",
    "print('backward')\n",
    "for epoch in range(num_epochs):\n",
    "    train_loss, train_accuracy = train(model, train_loader, criterion, optimizer, device)\n",
    "    test_loss, accuracy = evaluate(model, test_loader, criterion, device)\n",
    "    print(f\"Epoch [{epoch+1}/{num_epochs}], \\\n",
    "    Train Loss: {train_loss:.4f}, \\\n",
    "    Test Loss: {test_loss:.4f}, \\\n",
    "    Accuracy: {accuracy:.4f}\")"
   ]
  },
  {
   "cell_type": "code",
   "execution_count": null,
   "id": "3ee4963b",
   "metadata": {},
   "outputs": [
    {
     "name": "stdout",
     "output_type": "stream",
     "text": [
      "fitting scaler\n",
      "making dataset\n",
      "Already fit\n",
      "Already fit\n",
      "making dataloader\n",
      "making model\n",
      "backward\n",
      "Epoch [1/100],     Train Loss: 1.9550,     Test Loss: 2.2729,     Accuracy: 0.1427\n",
      "Epoch [2/100],     Train Loss: 2.2098,     Test Loss: 2.1075,     Accuracy: 0.0152\n",
      "Epoch [3/100],     Train Loss: 2.0309,     Test Loss: 1.9840,     Accuracy: 0.0152\n",
      "Epoch [4/100],     Train Loss: 1.9657,     Test Loss: 1.9238,     Accuracy: 0.2505\n",
      "Epoch [5/100],     Train Loss: 1.9596,     Test Loss: 1.8934,     Accuracy: 0.2505\n"
     ]
    }
   ],
   "source": [
    "transformers = transforms.Compose([\n",
    "    transforms.ToTensor(),\n",
    "])\n",
    "\n",
    "print('fitting scaler')\n",
    "# scaler = CustomScaler(0, 0.25) #<- Pretty good - 37% accuracy on test set, 95% on training set\n",
    "scaler = CustomScaler(0.5, 0.125) #<- Pretty good - 37% accuracy on test set, 95% on training set\n",
    "\n",
    "scaler.fit(TrainingData.pixels.str.split().explode().astype(np.uint8).values.reshape(-1,48,48))\n",
    "\n",
    "print('making dataset')\n",
    "train_data = Data(TrainingData, transform=transformers, scaler=scaler)\n",
    "test_data = Data(FinalTestData, transform=transformers, scaler=scaler)\n",
    "\n",
    "print('making dataloader')\n",
    "train_loader = DataLoader(train_data, shuffle = True, batch_size=503370)\n",
    "test_loader = DataLoader(test_data, batch_size=7178, shuffle = True)\n",
    "\n",
    "print('making model')\n",
    "num_classes = 7\n",
    "device = torch.device('cuda' if torch.cuda.is_available() else 'cpu')\n",
    "model = CNN(num_classes).to(device)\n",
    "# criterion = nn.CrossEntropyLoss()\n",
    "criterion = CustomLoss()\n",
    "optimizer = optim.Adam(model.parameters(), lr=.01)\n",
    "\n",
    "num_epochs = 100\n",
    "\n",
    "print('backward')\n",
    "for epoch in range(num_epochs):\n",
    "    train_loss, train_accuracy = train(model, train_loader, criterion, optimizer, device)\n",
    "    test_loss, accuracy = evaluate(model, test_loader, criterion, device)\n",
    "    print(f\"Epoch [{epoch+1}/{num_epochs}], \\\n",
    "    Train Loss: {train_loss:.4f}, \\\n",
    "    Test Loss: {test_loss:.4f}, \\\n",
    "    Accuracy: {accuracy:.4f}\")"
   ]
  },
  {
   "cell_type": "code",
   "execution_count": 124,
   "id": "1ff818e9",
   "metadata": {},
   "outputs": [
    {
     "name": "stdout",
     "output_type": "stream",
     "text": [
      "Epoch [1/100],     Train Loss: 0.2712,     Train Accuracy: 0.9385,     Test Loss: 2.4787,     Accuracy: 0.3473\n",
      "Epoch [2/100],     Train Loss: 0.2572,     Train Accuracy: 0.9413,     Test Loss: 2.4999,     Accuracy: 0.3486\n",
      "Epoch [3/100],     Train Loss: 0.2374,     Train Accuracy: 0.9460,     Test Loss: 2.4694,     Accuracy: 0.3575\n",
      "Epoch [4/100],     Train Loss: 0.2201,     Train Accuracy: 0.9520,     Test Loss: 2.5346,     Accuracy: 0.3449\n"
     ]
    },
    {
     "ename": "KeyboardInterrupt",
     "evalue": "",
     "output_type": "error",
     "traceback": [
      "\u001b[1;31m---------------------------------------------------------------------------\u001b[0m",
      "\u001b[1;31mKeyboardInterrupt\u001b[0m                         Traceback (most recent call last)",
      "Cell \u001b[1;32mIn[124], line 2\u001b[0m\n\u001b[0;32m      1\u001b[0m \u001b[38;5;28;01mfor\u001b[39;00m epoch \u001b[38;5;129;01min\u001b[39;00m \u001b[38;5;28mrange\u001b[39m(\u001b[38;5;241m10\u001b[39m):\n\u001b[1;32m----> 2\u001b[0m     train_loss, train_accuracy \u001b[38;5;241m=\u001b[39m \u001b[43mtrain\u001b[49m\u001b[43m(\u001b[49m\u001b[43mmodel\u001b[49m\u001b[43m,\u001b[49m\u001b[43m \u001b[49m\u001b[43mtrain_loader\u001b[49m\u001b[43m,\u001b[49m\u001b[43m \u001b[49m\u001b[43mcriterion\u001b[49m\u001b[43m,\u001b[49m\u001b[43m \u001b[49m\u001b[43moptimizer\u001b[49m\u001b[43m,\u001b[49m\u001b[43m \u001b[49m\u001b[43mdevice\u001b[49m\u001b[43m)\u001b[49m\n\u001b[0;32m      3\u001b[0m     test_loss, accuracy \u001b[38;5;241m=\u001b[39m evaluate(model, test_loader, criterion, device)\n\u001b[0;32m      4\u001b[0m     \u001b[38;5;28mprint\u001b[39m(\u001b[38;5;124mf\u001b[39m\u001b[38;5;124m\"\u001b[39m\u001b[38;5;124mEpoch [\u001b[39m\u001b[38;5;132;01m{\u001b[39;00mepoch\u001b[38;5;241m+\u001b[39m\u001b[38;5;241m1\u001b[39m\u001b[38;5;132;01m}\u001b[39;00m\u001b[38;5;124m/\u001b[39m\u001b[38;5;132;01m{\u001b[39;00mnum_epochs\u001b[38;5;132;01m}\u001b[39;00m\u001b[38;5;124m], \u001b[39m\u001b[38;5;130;01m\\\u001b[39;00m\n\u001b[0;32m      5\u001b[0m \u001b[38;5;124m    Train Loss: \u001b[39m\u001b[38;5;132;01m{\u001b[39;00mtrain_loss\u001b[38;5;132;01m:\u001b[39;00m\u001b[38;5;124m.4f\u001b[39m\u001b[38;5;132;01m}\u001b[39;00m\u001b[38;5;124m, \u001b[39m\u001b[38;5;130;01m\\\u001b[39;00m\n\u001b[0;32m      6\u001b[0m \u001b[38;5;124m    Train Accuracy: \u001b[39m\u001b[38;5;132;01m{\u001b[39;00mtrain_accuracy\u001b[38;5;132;01m:\u001b[39;00m\u001b[38;5;124m.4f\u001b[39m\u001b[38;5;132;01m}\u001b[39;00m\u001b[38;5;124m, \u001b[39m\u001b[38;5;130;01m\\\u001b[39;00m\n\u001b[0;32m      7\u001b[0m \u001b[38;5;124m    Test Loss: \u001b[39m\u001b[38;5;132;01m{\u001b[39;00mtest_loss\u001b[38;5;132;01m:\u001b[39;00m\u001b[38;5;124m.4f\u001b[39m\u001b[38;5;132;01m}\u001b[39;00m\u001b[38;5;124m, \u001b[39m\u001b[38;5;130;01m\\\u001b[39;00m\n\u001b[0;32m      8\u001b[0m \u001b[38;5;124m    Accuracy: \u001b[39m\u001b[38;5;132;01m{\u001b[39;00maccuracy\u001b[38;5;132;01m:\u001b[39;00m\u001b[38;5;124m.4f\u001b[39m\u001b[38;5;132;01m}\u001b[39;00m\u001b[38;5;124m\"\u001b[39m)\n",
      "Cell \u001b[1;32mIn[122], line 9\u001b[0m, in \u001b[0;36mtrain\u001b[1;34m(model, dataloader, criterion, optimizer, device)\u001b[0m\n\u001b[0;32m      7\u001b[0m outputs \u001b[38;5;241m=\u001b[39m model(images)\n\u001b[0;32m      8\u001b[0m loss \u001b[38;5;241m=\u001b[39m criterion(outputs, labels)\n\u001b[1;32m----> 9\u001b[0m \u001b[43mloss\u001b[49m\u001b[38;5;241;43m.\u001b[39;49m\u001b[43mbackward\u001b[49m\u001b[43m(\u001b[49m\u001b[43m)\u001b[49m\n\u001b[0;32m     10\u001b[0m optimizer\u001b[38;5;241m.\u001b[39mstep()\n\u001b[0;32m     11\u001b[0m running_loss \u001b[38;5;241m+\u001b[39m\u001b[38;5;241m=\u001b[39m loss\u001b[38;5;241m.\u001b[39mitem()\n",
      "File \u001b[1;32md:\\Program Files\\Python312\\Lib\\site-packages\\torch\\_tensor.py:525\u001b[0m, in \u001b[0;36mTensor.backward\u001b[1;34m(self, gradient, retain_graph, create_graph, inputs)\u001b[0m\n\u001b[0;32m    515\u001b[0m \u001b[38;5;28;01mif\u001b[39;00m has_torch_function_unary(\u001b[38;5;28mself\u001b[39m):\n\u001b[0;32m    516\u001b[0m     \u001b[38;5;28;01mreturn\u001b[39;00m handle_torch_function(\n\u001b[0;32m    517\u001b[0m         Tensor\u001b[38;5;241m.\u001b[39mbackward,\n\u001b[0;32m    518\u001b[0m         (\u001b[38;5;28mself\u001b[39m,),\n\u001b[1;32m   (...)\u001b[0m\n\u001b[0;32m    523\u001b[0m         inputs\u001b[38;5;241m=\u001b[39minputs,\n\u001b[0;32m    524\u001b[0m     )\n\u001b[1;32m--> 525\u001b[0m \u001b[43mtorch\u001b[49m\u001b[38;5;241;43m.\u001b[39;49m\u001b[43mautograd\u001b[49m\u001b[38;5;241;43m.\u001b[39;49m\u001b[43mbackward\u001b[49m\u001b[43m(\u001b[49m\n\u001b[0;32m    526\u001b[0m \u001b[43m    \u001b[49m\u001b[38;5;28;43mself\u001b[39;49m\u001b[43m,\u001b[49m\u001b[43m \u001b[49m\u001b[43mgradient\u001b[49m\u001b[43m,\u001b[49m\u001b[43m \u001b[49m\u001b[43mretain_graph\u001b[49m\u001b[43m,\u001b[49m\u001b[43m \u001b[49m\u001b[43mcreate_graph\u001b[49m\u001b[43m,\u001b[49m\u001b[43m \u001b[49m\u001b[43minputs\u001b[49m\u001b[38;5;241;43m=\u001b[39;49m\u001b[43minputs\u001b[49m\n\u001b[0;32m    527\u001b[0m \u001b[43m\u001b[49m\u001b[43m)\u001b[49m\n",
      "File \u001b[1;32md:\\Program Files\\Python312\\Lib\\site-packages\\torch\\autograd\\__init__.py:267\u001b[0m, in \u001b[0;36mbackward\u001b[1;34m(tensors, grad_tensors, retain_graph, create_graph, grad_variables, inputs)\u001b[0m\n\u001b[0;32m    262\u001b[0m     retain_graph \u001b[38;5;241m=\u001b[39m create_graph\n\u001b[0;32m    264\u001b[0m \u001b[38;5;66;03m# The reason we repeat the same comment below is that\u001b[39;00m\n\u001b[0;32m    265\u001b[0m \u001b[38;5;66;03m# some Python versions print out the first line of a multi-line function\u001b[39;00m\n\u001b[0;32m    266\u001b[0m \u001b[38;5;66;03m# calls in the traceback and some print out the last line\u001b[39;00m\n\u001b[1;32m--> 267\u001b[0m \u001b[43m_engine_run_backward\u001b[49m\u001b[43m(\u001b[49m\n\u001b[0;32m    268\u001b[0m \u001b[43m    \u001b[49m\u001b[43mtensors\u001b[49m\u001b[43m,\u001b[49m\n\u001b[0;32m    269\u001b[0m \u001b[43m    \u001b[49m\u001b[43mgrad_tensors_\u001b[49m\u001b[43m,\u001b[49m\n\u001b[0;32m    270\u001b[0m \u001b[43m    \u001b[49m\u001b[43mretain_graph\u001b[49m\u001b[43m,\u001b[49m\n\u001b[0;32m    271\u001b[0m \u001b[43m    \u001b[49m\u001b[43mcreate_graph\u001b[49m\u001b[43m,\u001b[49m\n\u001b[0;32m    272\u001b[0m \u001b[43m    \u001b[49m\u001b[43minputs\u001b[49m\u001b[43m,\u001b[49m\n\u001b[0;32m    273\u001b[0m \u001b[43m    \u001b[49m\u001b[43mallow_unreachable\u001b[49m\u001b[38;5;241;43m=\u001b[39;49m\u001b[38;5;28;43;01mTrue\u001b[39;49;00m\u001b[43m,\u001b[49m\n\u001b[0;32m    274\u001b[0m \u001b[43m    \u001b[49m\u001b[43maccumulate_grad\u001b[49m\u001b[38;5;241;43m=\u001b[39;49m\u001b[38;5;28;43;01mTrue\u001b[39;49;00m\u001b[43m,\u001b[49m\n\u001b[0;32m    275\u001b[0m \u001b[43m\u001b[49m\u001b[43m)\u001b[49m\n",
      "File \u001b[1;32md:\\Program Files\\Python312\\Lib\\site-packages\\torch\\autograd\\graph.py:744\u001b[0m, in \u001b[0;36m_engine_run_backward\u001b[1;34m(t_outputs, *args, **kwargs)\u001b[0m\n\u001b[0;32m    742\u001b[0m     unregister_hooks \u001b[38;5;241m=\u001b[39m _register_logging_hooks_on_whole_graph(t_outputs)\n\u001b[0;32m    743\u001b[0m \u001b[38;5;28;01mtry\u001b[39;00m:\n\u001b[1;32m--> 744\u001b[0m     \u001b[38;5;28;01mreturn\u001b[39;00m \u001b[43mVariable\u001b[49m\u001b[38;5;241;43m.\u001b[39;49m\u001b[43m_execution_engine\u001b[49m\u001b[38;5;241;43m.\u001b[39;49m\u001b[43mrun_backward\u001b[49m\u001b[43m(\u001b[49m\u001b[43m  \u001b[49m\u001b[38;5;66;43;03m# Calls into the C++ engine to run the backward pass\u001b[39;49;00m\n\u001b[0;32m    745\u001b[0m \u001b[43m        \u001b[49m\u001b[43mt_outputs\u001b[49m\u001b[43m,\u001b[49m\u001b[43m \u001b[49m\u001b[38;5;241;43m*\u001b[39;49m\u001b[43margs\u001b[49m\u001b[43m,\u001b[49m\u001b[43m \u001b[49m\u001b[38;5;241;43m*\u001b[39;49m\u001b[38;5;241;43m*\u001b[39;49m\u001b[43mkwargs\u001b[49m\n\u001b[0;32m    746\u001b[0m \u001b[43m    \u001b[49m\u001b[43m)\u001b[49m  \u001b[38;5;66;03m# Calls into the C++ engine to run the backward pass\u001b[39;00m\n\u001b[0;32m    747\u001b[0m \u001b[38;5;28;01mfinally\u001b[39;00m:\n\u001b[0;32m    748\u001b[0m     \u001b[38;5;28;01mif\u001b[39;00m attach_logging_hooks:\n",
      "\u001b[1;31mKeyboardInterrupt\u001b[0m: "
     ]
    }
   ],
   "source": [
    "for epoch in range(10):\n",
    "    train_loss, train_accuracy = train(model, train_loader, criterion, optimizer, device)\n",
    "    test_loss, accuracy = evaluate(model, test_loader, criterion, device)\n",
    "    print(f\"Epoch [{epoch+1}/{num_epochs}], \\\n",
    "    Train Loss: {train_loss:.4f}, \\\n",
    "    Train Accuracy: {train_accuracy:.4f}, \\\n",
    "    Test Loss: {test_loss:.4f}, \\\n",
    "    Accuracy: {accuracy:.4f}\")"
   ]
  },
  {
   "cell_type": "code",
   "execution_count": 113,
   "id": "9165f479",
   "metadata": {},
   "outputs": [],
   "source": [
    "# for images, labels in train_loader:\n",
    "#     print(1)\n",
    "\n",
    "y = model(images).argmax(axis=1)"
   ]
  },
  {
   "cell_type": "code",
   "execution_count": 115,
   "id": "849fe4c8",
   "metadata": {},
   "outputs": [],
   "source": [
    "yhat = labels.argmax(axis=1)"
   ]
  },
  {
   "cell_type": "code",
   "execution_count": 117,
   "id": "58eba753",
   "metadata": {},
   "outputs": [
    {
     "data": {
      "text/plain": [
       "tensor([4, 3, 2,  ..., 4, 3, 1])"
      ]
     },
     "execution_count": 117,
     "metadata": {},
     "output_type": "execute_result"
    }
   ],
   "source": [
    "yhat"
   ]
  },
  {
   "cell_type": "code",
   "execution_count": 121,
   "id": "7acf837b",
   "metadata": {},
   "outputs": [
    {
     "data": {
      "text/plain": [
       "0.9295788637266588"
      ]
     },
     "execution_count": 121,
     "metadata": {},
     "output_type": "execute_result"
    }
   ],
   "source": [
    "(y == yhat).sum().item()/len(yhat)"
   ]
  }
 ],
 "metadata": {
  "kernelspec": {
   "display_name": "Python 3",
   "language": "python",
   "name": "python3"
  },
  "language_info": {
   "codemirror_mode": {
    "name": "ipython",
    "version": 3
   },
   "file_extension": ".py",
   "mimetype": "text/x-python",
   "name": "python",
   "nbconvert_exporter": "python",
   "pygments_lexer": "ipython3",
   "version": "3.12.1"
  }
 },
 "nbformat": 4,
 "nbformat_minor": 5
}
