{
 "cells": [
  {
   "cell_type": "code",
   "execution_count": 56,
   "id": "b755da3e",
   "metadata": {},
   "outputs": [
    {
     "data": {
      "text/plain": [
       "1"
      ]
     },
     "execution_count": 56,
     "metadata": {},
     "output_type": "execute_result"
    }
   ],
   "source": [
    "import numpy as np\n",
    "import matplotlib.pyplot as plt\n",
    "from mpl_toolkits.mplot3d import Axes3D\n",
    "import plotly.graph_objects as go\n",
    "\n",
    "def surface_function(x, y):\n",
    "    return -(np.sin(np.sqrt(x**2 + y**2)) + 0.5 * np.cos(2 * x) + 0.5 * np.cos(2 * y))\n",
    "def derivative(x, y):\n",
    "    \"\"\"Calculate the gradient of the surface function.\"\"\"\n",
    "    dx = -np.cos(np.sqrt(x**2 + y**2)) * (x / np.sqrt(x**2 + y**2)) - np.sin(2 * x)\n",
    "    dy = -np.cos(np.sqrt(x**2 + y**2)) * (y / np.sqrt(x**2 + y**2)) - np.sin(2 * y)\n",
    "    return dx, dy\n",
    "\n",
    "x = np.linspace(-5, 5, 100)\n",
    "y = np.linspace(-5, 5, 100)\n",
    "x, y = np.meshgrid(x, y)\n",
    "\n",
    "z = surface_function(x, y)\n",
    "\n",
    "fig = go.Figure(data=[go.Surface(z=z, x=x, y=y, colorscale='rdbu',opacity=0.9)])\n",
    "\n",
    "fig.update_layout(\n",
    "    # title='Interactive 3D Surface with Global and Local Minima',\n",
    "    scene=dict(\n",
    "        xaxis_title='X axis',\n",
    "        yaxis_title='Y axis',\n",
    "        zaxis_title='Z axis'\n",
    "    ),\n",
    "    autosize=True,\n",
    "    margin=dict(l=65, r=50, b=65, t=90),\n",
    "    height=900,\n",
    "    width=1600,\n",
    "    showlegend=False,\n",
    ")\n",
    "1\n"
   ]
  },
  {
   "cell_type": "code",
   "execution_count": 57,
   "id": "60afc20f",
   "metadata": {},
   "outputs": [],
   "source": [
    "def plotTrajectory(fig, start):\n",
    "    path = [start]\n",
    "    # Gradient descent\n",
    "    gradient = np.array(derivative(*start))\n",
    "    lr = .1\n",
    "    for i in range(100):\n",
    "        nextPoint = start - lr * gradient\n",
    "        path.append(nextPoint)\n",
    "        gradient = np.array(derivative(*nextPoint))\n",
    "        start = nextPoint\n",
    "    path = np.array(path)\n",
    "\n",
    "    return fig.add_trace(\n",
    "        go.Scatter3d(\n",
    "            x=path[:, 0],\n",
    "            y=path[:, 1],\n",
    "            z=surface_function(path[:, 0], path[:, 1]),\n",
    "            mode='lines+markers',\n",
    "            line=dict(color='black', width=4),\n",
    "            marker=dict(size=2, color='black'),\n",
    "        )\n",
    "    )\n",
    "\n",
    "for i in range(10):\n",
    "    start = np.random.random(2)*10 - 5\n",
    "    fig = plotTrajectory(fig, start)\n",
    "\n",
    "\n",
    "start = np.array([-4.15,-4.15])\n",
    "path = [start]\n",
    "h = np.linalg.norm(start)/100\n",
    "\n",
    "for i in range(100):\n",
    "    start = start + np.array([h,h])\n",
    "    path.append(start)\n",
    "    if surface_function(start[0], start[1]) < -1.2:\n",
    "        break\n",
    "path = np.array(path)\n",
    "fig.add_trace(\n",
    "    go.Scatter3d(\n",
    "        x=path[:, 0],\n",
    "        y=path[:, 1],\n",
    "        z=surface_function(path[:, 0], path[:, 1]),\n",
    "        mode='lines+markers',\n",
    "        line=dict(color='blue', width=4),\n",
    "        marker=dict(size=2, color='blue'),\n",
    "        name='Gradient Ascent Path'\n",
    "    )\n",
    ")\n",
    "\n",
    "fig.write_html(\"3d_surface_plot.html\",auto_open=True)\n"
   ]
  }
 ],
 "metadata": {
  "kernelspec": {
   "display_name": "Python 3",
   "language": "python",
   "name": "python3"
  },
  "language_info": {
   "codemirror_mode": {
    "name": "ipython",
    "version": 3
   },
   "file_extension": ".py",
   "mimetype": "text/x-python",
   "name": "python",
   "nbconvert_exporter": "python",
   "pygments_lexer": "ipython3",
   "version": "3.12.1"
  }
 },
 "nbformat": 4,
 "nbformat_minor": 5
}
