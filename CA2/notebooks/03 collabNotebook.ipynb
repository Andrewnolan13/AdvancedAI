{
  "cells": [
    {
      "cell_type": "code",
      "execution_count": null,
      "id": "aa8568a4",
      "metadata": {
        "id": "aa8568a4"
      },
      "outputs": [],
      "source": [
        "import torch\n",
        "import torch.nn as nn\n",
        "import torch.optim as optim\n",
        "import torchvision.transforms as transforms\n",
        "from torch.utils.data import DataLoader, Dataset\n",
        "import pandas as pd\n",
        "import numpy as np\n",
        "from sklearn.model_selection import train_test_split\n",
        "from sklearn.preprocessing._data import BaseEstimator, TransformerMixin, OneToOneFeatureMixin\n",
        "from sklearn.preprocessing import StandardScaler, MinMaxScaler, RobustScaler\n"
      ]
    },
    {
      "cell_type": "code",
      "execution_count": null,
      "id": "790c116c",
      "metadata": {
        "id": "790c116c",
        "outputId": "9363089f-bc1c-4e83-a1f8-2255698903f9"
      },
      "outputs": [
        {
          "data": {
            "text/html": [
              "<div>\n",
              "<style scoped>\n",
              "    .dataframe tbody tr th:only-of-type {\n",
              "        vertical-align: middle;\n",
              "    }\n",
              "\n",
              "    .dataframe tbody tr th {\n",
              "        vertical-align: top;\n",
              "    }\n",
              "\n",
              "    .dataframe thead th {\n",
              "        text-align: right;\n",
              "    }\n",
              "</style>\n",
              "<table border=\"1\" class=\"dataframe\">\n",
              "  <thead>\n",
              "    <tr style=\"text-align: right;\">\n",
              "      <th></th>\n",
              "      <th>emotion</th>\n",
              "      <th>Usage</th>\n",
              "      <th>pixels</th>\n",
              "    </tr>\n",
              "  </thead>\n",
              "  <tbody>\n",
              "    <tr>\n",
              "      <th>0</th>\n",
              "      <td>0</td>\n",
              "      <td>Training</td>\n",
              "      <td>70 80 82 72 58 58 60 63 54 58 60 48 89 115 121...</td>\n",
              "    </tr>\n",
              "    <tr>\n",
              "      <th>1</th>\n",
              "      <td>0</td>\n",
              "      <td>Training</td>\n",
              "      <td>151 150 147 155 148 133 111 140 170 174 182 15...</td>\n",
              "    </tr>\n",
              "    <tr>\n",
              "      <th>2</th>\n",
              "      <td>2</td>\n",
              "      <td>Training</td>\n",
              "      <td>231 212 156 164 174 138 161 173 182 200 106 38...</td>\n",
              "    </tr>\n",
              "    <tr>\n",
              "      <th>3</th>\n",
              "      <td>4</td>\n",
              "      <td>Training</td>\n",
              "      <td>24 32 36 30 32 23 19 20 30 41 21 22 32 34 21 1...</td>\n",
              "    </tr>\n",
              "    <tr>\n",
              "      <th>4</th>\n",
              "      <td>6</td>\n",
              "      <td>Training</td>\n",
              "      <td>4 0 0 0 0 0 0 0 0 0 0 0 3 15 23 28 48 50 58 84...</td>\n",
              "    </tr>\n",
              "    <tr>\n",
              "      <th>...</th>\n",
              "      <td>...</td>\n",
              "      <td>...</td>\n",
              "      <td>...</td>\n",
              "    </tr>\n",
              "    <tr>\n",
              "      <th>35882</th>\n",
              "      <td>6</td>\n",
              "      <td>PrivateTest</td>\n",
              "      <td>50 36 17 22 23 29 33 39 34 37 37 37 39 43 48 5...</td>\n",
              "    </tr>\n",
              "    <tr>\n",
              "      <th>35883</th>\n",
              "      <td>3</td>\n",
              "      <td>PrivateTest</td>\n",
              "      <td>178 174 172 173 181 188 191 194 196 199 200 20...</td>\n",
              "    </tr>\n",
              "    <tr>\n",
              "      <th>35884</th>\n",
              "      <td>0</td>\n",
              "      <td>PrivateTest</td>\n",
              "      <td>17 17 16 23 28 22 19 17 25 26 20 24 31 19 27 9...</td>\n",
              "    </tr>\n",
              "    <tr>\n",
              "      <th>35885</th>\n",
              "      <td>3</td>\n",
              "      <td>PrivateTest</td>\n",
              "      <td>30 28 28 29 31 30 42 68 79 81 77 67 67 71 63 6...</td>\n",
              "    </tr>\n",
              "    <tr>\n",
              "      <th>35886</th>\n",
              "      <td>2</td>\n",
              "      <td>PrivateTest</td>\n",
              "      <td>19 13 14 12 13 16 21 33 50 57 71 84 97 108 122...</td>\n",
              "    </tr>\n",
              "  </tbody>\n",
              "</table>\n",
              "<p>35887 rows × 3 columns</p>\n",
              "</div>"
            ],
            "text/plain": [
              "       emotion        Usage                                             pixels\n",
              "0            0     Training  70 80 82 72 58 58 60 63 54 58 60 48 89 115 121...\n",
              "1            0     Training  151 150 147 155 148 133 111 140 170 174 182 15...\n",
              "2            2     Training  231 212 156 164 174 138 161 173 182 200 106 38...\n",
              "3            4     Training  24 32 36 30 32 23 19 20 30 41 21 22 32 34 21 1...\n",
              "4            6     Training  4 0 0 0 0 0 0 0 0 0 0 0 3 15 23 28 48 50 58 84...\n",
              "...        ...          ...                                                ...\n",
              "35882        6  PrivateTest  50 36 17 22 23 29 33 39 34 37 37 37 39 43 48 5...\n",
              "35883        3  PrivateTest  178 174 172 173 181 188 191 194 196 199 200 20...\n",
              "35884        0  PrivateTest  17 17 16 23 28 22 19 17 25 26 20 24 31 19 27 9...\n",
              "35885        3  PrivateTest  30 28 28 29 31 30 42 68 79 81 77 67 67 71 63 6...\n",
              "35886        2  PrivateTest  19 13 14 12 13 16 21 33 50 57 71 84 97 108 122...\n",
              "\n",
              "[35887 rows x 3 columns]"
            ]
          },
          "execution_count": 4,
          "metadata": {},
          "output_type": "execute_result"
        }
      ],
      "source": [
        "TrainingData = pd.read_csv('../data/01 Raw/icml_face_data.csv')\n",
        "TrainingData\n"
      ]
    },
    {
      "cell_type": "code",
      "execution_count": null,
      "id": "e1d06df5",
      "metadata": {
        "id": "e1d06df5"
      },
      "outputs": [],
      "source": [
        "TrainingData.columns = TrainingData.columns.map(lambda x: x.lower().strip())"
      ]
    },
    {
      "cell_type": "code",
      "execution_count": null,
      "id": "84aeee6b",
      "metadata": {
        "id": "84aeee6b",
        "outputId": "0c6301a5-6300-4158-bcae-6026c73ad934"
      },
      "outputs": [
        {
          "data": {
            "text/html": [
              "<div>\n",
              "<style scoped>\n",
              "    .dataframe tbody tr th:only-of-type {\n",
              "        vertical-align: middle;\n",
              "    }\n",
              "\n",
              "    .dataframe tbody tr th {\n",
              "        vertical-align: top;\n",
              "    }\n",
              "\n",
              "    .dataframe thead th {\n",
              "        text-align: right;\n",
              "    }\n",
              "</style>\n",
              "<table border=\"1\" class=\"dataframe\">\n",
              "  <thead>\n",
              "    <tr style=\"text-align: right;\">\n",
              "      <th></th>\n",
              "      <th>emotion</th>\n",
              "      <th>usage</th>\n",
              "      <th>pixels</th>\n",
              "    </tr>\n",
              "  </thead>\n",
              "  <tbody>\n",
              "    <tr>\n",
              "      <th>0</th>\n",
              "      <td>0</td>\n",
              "      <td>Training</td>\n",
              "      <td>70 80 82 72 58 58 60 63 54 58 60 48 89 115 121...</td>\n",
              "    </tr>\n",
              "    <tr>\n",
              "      <th>1</th>\n",
              "      <td>0</td>\n",
              "      <td>Training</td>\n",
              "      <td>151 150 147 155 148 133 111 140 170 174 182 15...</td>\n",
              "    </tr>\n",
              "    <tr>\n",
              "      <th>2</th>\n",
              "      <td>2</td>\n",
              "      <td>Training</td>\n",
              "      <td>231 212 156 164 174 138 161 173 182 200 106 38...</td>\n",
              "    </tr>\n",
              "    <tr>\n",
              "      <th>3</th>\n",
              "      <td>4</td>\n",
              "      <td>Training</td>\n",
              "      <td>24 32 36 30 32 23 19 20 30 41 21 22 32 34 21 1...</td>\n",
              "    </tr>\n",
              "    <tr>\n",
              "      <th>4</th>\n",
              "      <td>6</td>\n",
              "      <td>Training</td>\n",
              "      <td>4 0 0 0 0 0 0 0 0 0 0 0 3 15 23 28 48 50 58 84...</td>\n",
              "    </tr>\n",
              "    <tr>\n",
              "      <th>...</th>\n",
              "      <td>...</td>\n",
              "      <td>...</td>\n",
              "      <td>...</td>\n",
              "    </tr>\n",
              "    <tr>\n",
              "      <th>35882</th>\n",
              "      <td>6</td>\n",
              "      <td>PrivateTest</td>\n",
              "      <td>50 36 17 22 23 29 33 39 34 37 37 37 39 43 48 5...</td>\n",
              "    </tr>\n",
              "    <tr>\n",
              "      <th>35883</th>\n",
              "      <td>3</td>\n",
              "      <td>PrivateTest</td>\n",
              "      <td>178 174 172 173 181 188 191 194 196 199 200 20...</td>\n",
              "    </tr>\n",
              "    <tr>\n",
              "      <th>35884</th>\n",
              "      <td>0</td>\n",
              "      <td>PrivateTest</td>\n",
              "      <td>17 17 16 23 28 22 19 17 25 26 20 24 31 19 27 9...</td>\n",
              "    </tr>\n",
              "    <tr>\n",
              "      <th>35885</th>\n",
              "      <td>3</td>\n",
              "      <td>PrivateTest</td>\n",
              "      <td>30 28 28 29 31 30 42 68 79 81 77 67 67 71 63 6...</td>\n",
              "    </tr>\n",
              "    <tr>\n",
              "      <th>35886</th>\n",
              "      <td>2</td>\n",
              "      <td>PrivateTest</td>\n",
              "      <td>19 13 14 12 13 16 21 33 50 57 71 84 97 108 122...</td>\n",
              "    </tr>\n",
              "  </tbody>\n",
              "</table>\n",
              "<p>35887 rows × 3 columns</p>\n",
              "</div>"
            ],
            "text/plain": [
              "       emotion        usage                                             pixels\n",
              "0            0     Training  70 80 82 72 58 58 60 63 54 58 60 48 89 115 121...\n",
              "1            0     Training  151 150 147 155 148 133 111 140 170 174 182 15...\n",
              "2            2     Training  231 212 156 164 174 138 161 173 182 200 106 38...\n",
              "3            4     Training  24 32 36 30 32 23 19 20 30 41 21 22 32 34 21 1...\n",
              "4            6     Training  4 0 0 0 0 0 0 0 0 0 0 0 3 15 23 28 48 50 58 84...\n",
              "...        ...          ...                                                ...\n",
              "35882        6  PrivateTest  50 36 17 22 23 29 33 39 34 37 37 37 39 43 48 5...\n",
              "35883        3  PrivateTest  178 174 172 173 181 188 191 194 196 199 200 20...\n",
              "35884        0  PrivateTest  17 17 16 23 28 22 19 17 25 26 20 24 31 19 27 9...\n",
              "35885        3  PrivateTest  30 28 28 29 31 30 42 68 79 81 77 67 67 71 63 6...\n",
              "35886        2  PrivateTest  19 13 14 12 13 16 21 33 50 57 71 84 97 108 122...\n",
              "\n",
              "[35887 rows x 3 columns]"
            ]
          },
          "execution_count": 17,
          "metadata": {},
          "output_type": "execute_result"
        }
      ],
      "source": [
        "TrainingData"
      ]
    },
    {
      "cell_type": "code",
      "execution_count": null,
      "id": "fdf4a99e",
      "metadata": {
        "id": "fdf4a99e"
      },
      "outputs": [],
      "source": [
        "FinalTestData = pd.read_pickle('../data/02 Processed/testData.pkl')"
      ]
    },
    {
      "cell_type": "code",
      "execution_count": null,
      "id": "e7e555a8",
      "metadata": {
        "id": "e7e555a8",
        "outputId": "d9b62d66-fb0e-4f8c-8233-51b8593a640d"
      },
      "outputs": [
        {
          "data": {
            "text/html": [
              "<div>\n",
              "<style scoped>\n",
              "    .dataframe tbody tr th:only-of-type {\n",
              "        vertical-align: middle;\n",
              "    }\n",
              "\n",
              "    .dataframe tbody tr th {\n",
              "        vertical-align: top;\n",
              "    }\n",
              "\n",
              "    .dataframe thead th {\n",
              "        text-align: right;\n",
              "    }\n",
              "</style>\n",
              "<table border=\"1\" class=\"dataframe\">\n",
              "  <thead>\n",
              "    <tr style=\"text-align: right;\">\n",
              "      <th></th>\n",
              "      <th>emotion</th>\n",
              "      <th>usage</th>\n",
              "      <th>pixels</th>\n",
              "    </tr>\n",
              "  </thead>\n",
              "  <tbody>\n",
              "    <tr>\n",
              "      <th>23022</th>\n",
              "      <td>3</td>\n",
              "      <td>Training</td>\n",
              "      <td>226 220 207 191 178 162 158 146 168 139 146 14...</td>\n",
              "    </tr>\n",
              "    <tr>\n",
              "      <th>2233</th>\n",
              "      <td>2</td>\n",
              "      <td>Training</td>\n",
              "      <td>235 236 233 141 92 116 103 80 67 75 71 55 65 6...</td>\n",
              "    </tr>\n",
              "    <tr>\n",
              "      <th>15400</th>\n",
              "      <td>3</td>\n",
              "      <td>Training</td>\n",
              "      <td>69 63 58 52 48 44 45 49 55 61 47 39 100 70 27 ...</td>\n",
              "    </tr>\n",
              "    <tr>\n",
              "      <th>10792</th>\n",
              "      <td>3</td>\n",
              "      <td>Training</td>\n",
              "      <td>168 161 166 165 165 177 181 180 174 171 166 16...</td>\n",
              "    </tr>\n",
              "    <tr>\n",
              "      <th>27856</th>\n",
              "      <td>3</td>\n",
              "      <td>Training</td>\n",
              "      <td>94 104 105 119 120 128 160 158 160 158 159 149...</td>\n",
              "    </tr>\n",
              "    <tr>\n",
              "      <th>...</th>\n",
              "      <td>...</td>\n",
              "      <td>...</td>\n",
              "      <td>...</td>\n",
              "    </tr>\n",
              "    <tr>\n",
              "      <th>3387</th>\n",
              "      <td>0</td>\n",
              "      <td>Training</td>\n",
              "      <td>45 41 44 47 49 50 69 113 143 143 145 152 161 1...</td>\n",
              "    </tr>\n",
              "    <tr>\n",
              "      <th>33620</th>\n",
              "      <td>6</td>\n",
              "      <td>PrivateTest</td>\n",
              "      <td>214 219 221 220 221 220 220 223 208 131 107 11...</td>\n",
              "    </tr>\n",
              "    <tr>\n",
              "      <th>26225</th>\n",
              "      <td>6</td>\n",
              "      <td>Training</td>\n",
              "      <td>157 114 63 18 10 10 23 11 8 24 26 11 11 11 19 ...</td>\n",
              "    </tr>\n",
              "    <tr>\n",
              "      <th>34258</th>\n",
              "      <td>2</td>\n",
              "      <td>PrivateTest</td>\n",
              "      <td>115 120 125 130 138 143 145 146 148 148 147 14...</td>\n",
              "    </tr>\n",
              "    <tr>\n",
              "      <th>7861</th>\n",
              "      <td>5</td>\n",
              "      <td>Training</td>\n",
              "      <td>102 103 96 94 103 79 59 50 46 62 75 71 69 90 1...</td>\n",
              "    </tr>\n",
              "  </tbody>\n",
              "</table>\n",
              "<p>7178 rows × 3 columns</p>\n",
              "</div>"
            ],
            "text/plain": [
              "       emotion        usage                                             pixels\n",
              "23022        3     Training  226 220 207 191 178 162 158 146 168 139 146 14...\n",
              "2233         2     Training  235 236 233 141 92 116 103 80 67 75 71 55 65 6...\n",
              "15400        3     Training  69 63 58 52 48 44 45 49 55 61 47 39 100 70 27 ...\n",
              "10792        3     Training  168 161 166 165 165 177 181 180 174 171 166 16...\n",
              "27856        3     Training  94 104 105 119 120 128 160 158 160 158 159 149...\n",
              "...        ...          ...                                                ...\n",
              "3387         0     Training  45 41 44 47 49 50 69 113 143 143 145 152 161 1...\n",
              "33620        6  PrivateTest  214 219 221 220 221 220 220 223 208 131 107 11...\n",
              "26225        6     Training  157 114 63 18 10 10 23 11 8 24 26 11 11 11 19 ...\n",
              "34258        2  PrivateTest  115 120 125 130 138 143 145 146 148 148 147 14...\n",
              "7861         5     Training  102 103 96 94 103 79 59 50 46 62 75 71 69 90 1...\n",
              "\n",
              "[7178 rows x 3 columns]"
            ]
          },
          "execution_count": 6,
          "metadata": {},
          "output_type": "execute_result"
        }
      ],
      "source": [
        "FinalTestData"
      ]
    },
    {
      "cell_type": "code",
      "execution_count": null,
      "id": "92dd9eec",
      "metadata": {
        "id": "92dd9eec",
        "outputId": "a9c9a1bc-35a4-40f6-97ff-835576506453"
      },
      "outputs": [
        {
          "data": {
            "text/plain": [
              " Usage\n",
              "Training       28709\n",
              "PublicTest      3589\n",
              "PrivateTest     3589\n",
              "Name: count, dtype: int64"
            ]
          },
          "execution_count": 10,
          "metadata": {},
          "output_type": "execute_result"
        }
      ],
      "source": [
        "TrainingData[' Usage'].value_counts()"
      ]
    },
    {
      "cell_type": "code",
      "execution_count": null,
      "id": "20112027",
      "metadata": {
        "id": "20112027"
      },
      "outputs": [],
      "source": [
        "TrainingData = pd.read_pickle('../data/02 Processed/train.pkl')\n",
        "FinalTestData = pd.read_pickle('../data/02 Processed/testData.pkl')\n",
        "FinalTestData.drop(columns = 'usage', inplace = True)\n",
        "# s = TrainingData.iloc[:1000].copy()\n",
        "# del TrainingData\n",
        "# TrainingData = s.copy()\n",
        "# del s\n",
        "\n",
        "FinalTestData.shape, TrainingData.shape\n",
        "TrainingDataCheckPoint = TrainingData.copy()"
      ]
    },
    {
      "cell_type": "code",
      "execution_count": null,
      "id": "25a6d3f4",
      "metadata": {
        "id": "25a6d3f4"
      },
      "outputs": [],
      "source": [
        "big,small = train_test_split(TrainingData, test_size=0.02, stratify=TrainingData['emotion'], random_state=42)"
      ]
    },
    {
      "cell_type": "code",
      "execution_count": null,
      "id": "c602de3d",
      "metadata": {
        "id": "c602de3d",
        "outputId": "24cf9228-fa15-40f0-8107-4d429cfddd75"
      },
      "outputs": [
        {
          "data": {
            "text/plain": [
              "<Axes: xlabel='emotion'>"
            ]
          },
          "execution_count": 11,
          "metadata": {},
          "output_type": "execute_result"
        },
        {
          "data": {
            "image/png": "[encoded data removed]",
            "text/plain": [
              "<Figure size 640x480 with 1 Axes>"
            ]
          },
          "metadata": {},
          "output_type": "display_data"
        }
      ],
      "source": [
        "small.emotion.value_counts().plot(kind='bar')"
      ]
    },
    {
      "cell_type": "code",
      "execution_count": null,
      "id": "27394554",
      "metadata": {
        "id": "27394554",
        "outputId": "f44f835e-9c7e-4a02-bd40-3c6c8a0e038a"
      },
      "outputs": [
        {
          "data": {
            "text/plain": [
              "<Axes: xlabel='emotion'>"
            ]
          },
          "execution_count": 12,
          "metadata": {},
          "output_type": "execute_result"
        },
        {
          "data": {
            "image/png": "[encoded data removed]",
            "text/plain": [
              "<Figure size 640x480 with 1 Axes>"
            ]
          },
          "metadata": {},
          "output_type": "display_data"
        }
      ],
      "source": [
        "big.emotion.value_counts().plot(kind='bar')"
      ]
    },
    {
      "cell_type": "code",
      "execution_count": null,
      "id": "9656fb13",
      "metadata": {
        "id": "9656fb13"
      },
      "outputs": [],
      "source": [
        "TrainingData = small"
      ]
    },
    {
      "cell_type": "code",
      "execution_count": null,
      "id": "87deac1b",
      "metadata": {
        "id": "87deac1b"
      },
      "outputs": [],
      "source": [
        "TrainingData = TrainingData.iloc[:5]"
      ]
    },
    {
      "cell_type": "code",
      "execution_count": null,
      "id": "a458fcbd",
      "metadata": {
        "id": "a458fcbd"
      },
      "outputs": [],
      "source": [
        "TrainingData = TrainingDataCheckPoint.drop_duplicates().reset_index(drop=True)"
      ]
    },
    {
      "cell_type": "code",
      "execution_count": null,
      "id": "1a7877e0",
      "metadata": {
        "id": "1a7877e0"
      },
      "outputs": [],
      "source": [
        "\n",
        "class CustomStandardScaler(OneToOneFeatureMixin, TransformerMixin, BaseEstimator):\n",
        "    def __init__(self, mu: float, sigma: float):\n",
        "        self.mu = mu\n",
        "        self.sigma = sigma\n",
        "        self.__mean = None\n",
        "        self.__std = None\n",
        "        self.__fitted = False\n",
        "\n",
        "    @property\n",
        "    def _fitted(self)->bool:\n",
        "        return self.__fitted\n",
        "\n",
        "    @_fitted.setter\n",
        "    def _fitted(self, value: bool):\n",
        "        if self.__fitted:\n",
        "            raise AttributeError(\"The 'fit' method has already been called.\")\n",
        "        if not isinstance(value, bool):\n",
        "            raise TypeError(\"The 'fitted' attribute must be a boolean.\")\n",
        "        self.__fitted = value\n",
        "\n",
        "    @property\n",
        "    def _mean(self)->np.ndarray:\n",
        "        '''\n",
        "        mean of the passed data\n",
        "        '''\n",
        "        if self.__mean is None:\n",
        "            raise AttributeError(\"The 'fit' method must be called before accessing the mean.\")\n",
        "        return self.__mean\n",
        "\n",
        "    @property\n",
        "    def _std(self)->np.ndarray:\n",
        "        '''\n",
        "        std of the passed data\n",
        "        '''\n",
        "        if self.__std is None:\n",
        "            raise AttributeError(\"The 'fit' method must be called before accessing the std.\")\n",
        "        return self.__std\n",
        "\n",
        "    def fit(self, X: np.ndarray)-> 'CustomStandardScaler':\n",
        "        self._fitted = True\n",
        "        self.__mean = X.mean(axis=0)\n",
        "        self.__std = X.std(axis=0)\n",
        "        return self\n",
        "\n",
        "    def transform(self, X: np.ndarray)-> np.ndarray:\n",
        "        newX = X - self._mean\n",
        "        newX = (newX / self._std) * self.sigma\n",
        "        return newX+self.mu\n",
        "\n",
        "    def fit_transform(self, X:np.ndarray) -> np.ndarray:\n",
        "        self.fit(X)\n",
        "        return self.transform(X)\n",
        "\n",
        "    def inverse_transform(self, X:np.ndarray) -> np.ndarray:\n",
        "        newX = X - self.mu\n",
        "        newX = (newX / self._std) * self.sigma\n",
        "        return newX + self._mean\n",
        "\n",
        "class CustomMinMaxScaler(OneToOneFeatureMixin, TransformerMixin, BaseEstimator):\n",
        "    def __init__(self):\n",
        "        self.__min = None\n",
        "        self.__max = None\n",
        "        self.__fitted = False\n",
        "\n",
        "    @property\n",
        "    def _fitted(self)->bool:\n",
        "        return self.__fitted\n",
        "\n",
        "    @_fitted.setter\n",
        "    def _fitted(self, value: bool):\n",
        "        if self.__fitted:\n",
        "            raise AttributeError(\"The 'fit' method has already been called.\")\n",
        "        if not isinstance(value, bool):\n",
        "            raise TypeError(\"The 'fitted' attribute must be a boolean.\")\n",
        "        self.__fitted = value\n",
        "\n",
        "    @property\n",
        "    def _min(self)->np.ndarray:\n",
        "        '''\n",
        "        min of the passed data\n",
        "        '''\n",
        "        if self.__min is None:\n",
        "            raise AttributeError(\"The 'fit' method must be called before accessing the min.\")\n",
        "        return self.__min\n",
        "\n",
        "    @property\n",
        "    def _max(self)->np.ndarray:\n",
        "        '''\n",
        "        max of the passed data\n",
        "        '''\n",
        "        if self.__max is None:\n",
        "            raise AttributeError(\"The 'fit' method must be called before accessing the max.\")\n",
        "        return self.__max\n",
        "\n",
        "    def fit(self, X: np.ndarray)-> 'CustomStandardScaler':\n",
        "        self._fitted = True\n",
        "        self.__min = X.min(axis=0)\n",
        "        self.__max = X.max(axis=0)\n",
        "        return self\n",
        "\n",
        "    def transform(self, X: np.ndarray)-> np.ndarray:\n",
        "        return (X - self._min)/(self._max - self._min)\n",
        "\n",
        "    def fit_transform(self, X:np.ndarray) -> np.ndarray:\n",
        "        self.fit(X)\n",
        "        return self.transform(X)\n",
        "\n",
        "    def inverse_transform(self, X:np.ndarray) -> np.ndarray:\n",
        "        return X * (self._max - self._min) + self._min\n",
        "\n",
        "class Data(Dataset):\n",
        "    _identityFunc = lambda x: x\n",
        "    def __init__(self,data:pd.DataFrame, transform:transforms = None, scaler:BaseEstimator = None):\n",
        "        # making them private so can't be altered\n",
        "        if not scaler:\n",
        "            scaler = CustomScaler(0, 0.25)\n",
        "\n",
        "        self.__transform = transform if transform else Data._identityFunc\n",
        "        self.__Y = data['emotion'].astype(int).values.tolist()\n",
        "        self.__X = data.pixels.str.split().explode().astype(np.uint8).values.reshape(-1,48,48)\n",
        "        self.__len = data.shape[0]\n",
        "        try:\n",
        "            self.__X = scaler.fit_transform(self.__X).astype(np.float32)\n",
        "        except AttributeError:\n",
        "            print(\"Already fit\")\n",
        "            self.__X = scaler.transform(self.__X).astype(np.float32)\n",
        "\n",
        "    def __len__(self)->int:\n",
        "        return self.__len\n",
        "\n",
        "    def __getitem__(self, index)->tuple[np.ndarray,np.ndarray]:\n",
        "        img:np.ndarray = self.__X[index]\n",
        "        emotion:int = self.__Y[index]\n",
        "        label = np.zeros((7,), dtype=np.float32)\n",
        "        label[emotion] = 1\n",
        "        return self.__transform(img), label\n",
        "\n",
        "class CNN(nn.Module):\n",
        "    def __init__(self, num_classes):\n",
        "        super(CNN, self).__init__()\n",
        "\n",
        "        self.conv1 = nn.Sequential(\n",
        "            nn.Conv2d(1, 16, kernel_size=5, padding=2),\n",
        "            nn.ReLU(),\n",
        "            nn.MaxPool2d(2, 2)\n",
        "        )\n",
        "        self.conv2 = nn.Sequential(\n",
        "            nn.Conv2d(16, 32, kernel_size=3, padding=1),\n",
        "            nn.ReLU(),\n",
        "            nn.MaxPool2d(2, 2)\n",
        "        )\n",
        "        self.fc1 = nn.Sequential(\n",
        "            nn.Linear(32 * 12 * 12, 256),\n",
        "            nn.LeakyReLU(),\n",
        "        )\n",
        "        self.fc2 = nn.Sequential(\n",
        "            nn.Linear(256, 100),\n",
        "            nn.Sigmoid()\n",
        "        )\n",
        "        self.fc3 = nn.Sequential(\n",
        "            nn.Linear(100, num_classes),\n",
        "            nn.Softmax(dim=1)\n",
        "        )\n",
        "\n",
        "    def forward(self, x):\n",
        "        x = self.conv1(x)\n",
        "        x = self.conv2(x)\n",
        "        x = x.flatten(start_dim=1)\n",
        "        x = self.fc1(x)\n",
        "        x = self.fc2(x)\n",
        "        x = self.fc3(x)\n",
        "        return x\n",
        "\n"
      ]
    },
    {
      "cell_type": "code",
      "execution_count": null,
      "id": "135cd1e9",
      "metadata": {
        "id": "135cd1e9"
      },
      "outputs": [],
      "source": [
        "\n",
        "def train(model, dataloader, criterion, optimizer, device):\n",
        "    model.train()\n",
        "    running_loss = 0.0\n",
        "    for images, labels in dataloader:\n",
        "        images, labels = images.to(device), labels.to(device)\n",
        "        optimizer.zero_grad()\n",
        "        outputs = model(images)\n",
        "        loss = criterion(outputs, labels)\n",
        "        loss.backward()\n",
        "        optimizer.step()\n",
        "        running_loss += loss.item()\n",
        "\n",
        "        # get accuracy\n",
        "        predicted = outputs.argmax(axis=1)\n",
        "        target = labels.argmax(axis=1)\n",
        "        correct = (predicted == target).sum().item()\n",
        "        accuracy = correct / labels.size(0)\n",
        "    return running_loss / len(dataloader), accuracy\n",
        "\n",
        "def evaluate(model, dataloader, criterion, device):\n",
        "    model.eval()\n",
        "    running_loss = 0.0\n",
        "    correct = 0\n",
        "    total = 0\n",
        "    with torch.no_grad():\n",
        "      for images, labels in dataloader:\n",
        "          images, labels = images.to(device), labels.to(device)\n",
        "          outputs = model(images)\n",
        "          loss = criterion(outputs, labels)\n",
        "          running_loss += loss.item()\n",
        "          predicted = outputs.argmax(axis=1)\n",
        "          total += labels.size(0)\n",
        "          correct += (predicted == labels.argmax(axis = 1)).sum().item()\n",
        "\n",
        "    return running_loss / len(dataloader), correct / total"
      ]
    },
    {
      "cell_type": "code",
      "execution_count": null,
      "id": "0f5fce7e",
      "metadata": {
        "id": "0f5fce7e"
      },
      "outputs": [],
      "source": [
        "class CustomLoss(nn.Module):\n",
        "    '''\n",
        "    nn.CrossEntropyLosss is annoying me the way it expects labels\n",
        "    it also does the softmax part itself.\n",
        "\n",
        "    this class expects two R^n vectors or two arrays of R^n vectors\n",
        "    it then penalises the difference using negative log liklihood\n",
        "    '''\n",
        "    def __init__(self):\n",
        "        super(CustomLoss, self).__init__()\n",
        "    def forward(self, probabilites:torch.Tensor, target:torch.Tensor)->torch.Tensor:\n",
        "        '''\n",
        "        probabilites: R^n\n",
        "        target: R^n\n",
        "        '''\n",
        "        # print(probabilites)\n",
        "        # print(target)\n",
        "        # print(probabilites.shape)\n",
        "        # print(target.shape)\n",
        "        return -torch.sum(target * torch.log(probabilites + 1e-10), dim=1).mean()"
      ]
    },
    {
      "cell_type": "code",
      "execution_count": null,
      "id": "cacbb424",
      "metadata": {
        "id": "cacbb424",
        "outputId": "df5e84aa-2eb3-40d3-d5a5-b7b236b9a230"
      },
      "outputs": [
        {
          "name": "stdout",
          "output_type": "stream",
          "text": [
            "fitting scaler\n",
            "making dataset\n",
            "Already fit\n",
            "Already fit\n",
            "making dataloader\n",
            "making model\n",
            "backward\n",
            "Epoch [1/100],     Train Loss: 1.9439,     Train Accuracy: 0.1427,     Test Loss: 2.0306,     Accuracy: 0.2505\n",
            "Epoch [2/100],     Train Loss: 2.0309,     Train Accuracy: 0.2505,     Test Loss: 1.8869,     Accuracy: 0.1461\n",
            "Epoch [3/100],     Train Loss: 1.8874,     Train Accuracy: 0.1466,     Test Loss: 1.8172,     Accuracy: 0.2505\n",
            "Epoch [4/100],     Train Loss: 1.8174,     Train Accuracy: 0.2505,     Test Loss: 1.8081,     Accuracy: 0.2505\n",
            "Epoch [5/100],     Train Loss: 1.8083,     Train Accuracy: 0.2505,     Test Loss: 1.8129,     Accuracy: 0.2505\n",
            "Epoch [6/100],     Train Loss: 1.8129,     Train Accuracy: 0.2505,     Test Loss: 1.8066,     Accuracy: 0.2505\n",
            "Epoch [7/100],     Train Loss: 1.8067,     Train Accuracy: 0.2505,     Test Loss: 1.8068,     Accuracy: 0.2505\n",
            "Epoch [8/100],     Train Loss: 1.8068,     Train Accuracy: 0.2505,     Test Loss: 1.7969,     Accuracy: 0.2505\n",
            "Epoch [9/100],     Train Loss: 1.7970,     Train Accuracy: 0.2505,     Test Loss: 1.8001,     Accuracy: 0.2549\n",
            "Epoch [10/100],     Train Loss: 1.8003,     Train Accuracy: 0.2530,     Test Loss: 1.7929,     Accuracy: 0.2510\n",
            "Epoch [11/100],     Train Loss: 1.7931,     Train Accuracy: 0.2516,     Test Loss: 1.7985,     Accuracy: 0.2517\n",
            "Epoch [12/100],     Train Loss: 1.7985,     Train Accuracy: 0.2504,     Test Loss: 1.7893,     Accuracy: 0.2529\n",
            "Epoch [13/100],     Train Loss: 1.7896,     Train Accuracy: 0.2525,     Test Loss: 1.7881,     Accuracy: 0.2547\n",
            "Epoch [14/100],     Train Loss: 1.7885,     Train Accuracy: 0.2550,     Test Loss: 1.7822,     Accuracy: 0.2506\n",
            "Epoch [15/100],     Train Loss: 1.7826,     Train Accuracy: 0.2512,     Test Loss: 1.7791,     Accuracy: 0.2505\n",
            "Epoch [16/100],     Train Loss: 1.7796,     Train Accuracy: 0.2506,     Test Loss: 1.7773,     Accuracy: 0.2512\n",
            "Epoch [17/100],     Train Loss: 1.7779,     Train Accuracy: 0.2515,     Test Loss: 1.7693,     Accuracy: 0.2534\n",
            "Epoch [18/100],     Train Loss: 1.7703,     Train Accuracy: 0.2543,     Test Loss: 1.7685,     Accuracy: 0.2650\n",
            "Epoch [19/100],     Train Loss: 1.7699,     Train Accuracy: 0.2638,     Test Loss: 1.7624,     Accuracy: 0.2627\n",
            "Epoch [20/100],     Train Loss: 1.7640,     Train Accuracy: 0.2648,     Test Loss: 1.7644,     Accuracy: 0.2502\n",
            "Epoch [21/100],     Train Loss: 1.7660,     Train Accuracy: 0.2533,     Test Loss: 1.7551,     Accuracy: 0.2650\n",
            "Epoch [22/100],     Train Loss: 1.7569,     Train Accuracy: 0.2660,     Test Loss: 1.7556,     Accuracy: 0.2731\n",
            "Epoch [23/100],     Train Loss: 1.7572,     Train Accuracy: 0.2731,     Test Loss: 1.7470,     Accuracy: 0.2666\n",
            "Epoch [24/100],     Train Loss: 1.7490,     Train Accuracy: 0.2698,     Test Loss: 1.7458,     Accuracy: 0.2623\n",
            "Epoch [25/100],     Train Loss: 1.7480,     Train Accuracy: 0.2665,     Test Loss: 1.7350,     Accuracy: 0.2784\n",
            "Epoch [26/100],     Train Loss: 1.7377,     Train Accuracy: 0.2802,     Test Loss: 1.7299,     Accuracy: 0.2917\n",
            "Epoch [27/100],     Train Loss: 1.7332,     Train Accuracy: 0.2910,     Test Loss: 1.7187,     Accuracy: 0.3023\n",
            "Epoch [28/100],     Train Loss: 1.7228,     Train Accuracy: 0.3009,     Test Loss: 1.7130,     Accuracy: 0.3004\n",
            "Epoch [29/100],     Train Loss: 1.7176,     Train Accuracy: 0.3011,     Test Loss: 1.7045,     Accuracy: 0.3103\n",
            "Epoch [30/100],     Train Loss: 1.7091,     Train Accuracy: 0.3085,     Test Loss: 1.6932,     Accuracy: 0.3147\n",
            "Epoch [31/100],     Train Loss: 1.6980,     Train Accuracy: 0.3165,     Test Loss: 1.6818,     Accuracy: 0.3208\n",
            "Epoch [32/100],     Train Loss: 1.6863,     Train Accuracy: 0.3233,     Test Loss: 1.6710,     Accuracy: 0.3312\n",
            "Epoch [33/100],     Train Loss: 1.6752,     Train Accuracy: 0.3321,     Test Loss: 1.6562,     Accuracy: 0.3435\n",
            "Epoch [34/100],     Train Loss: 1.6608,     Train Accuracy: 0.3448,     Test Loss: 1.6420,     Accuracy: 0.3518\n",
            "Epoch [35/100],     Train Loss: 1.6476,     Train Accuracy: 0.3515,     Test Loss: 1.6332,     Accuracy: 0.3541\n",
            "Epoch [36/100],     Train Loss: 1.6391,     Train Accuracy: 0.3545,     Test Loss: 1.6243,     Accuracy: 0.3625\n",
            "Epoch [37/100],     Train Loss: 1.6304,     Train Accuracy: 0.3623,     Test Loss: 1.6132,     Accuracy: 0.3721\n",
            "Epoch [38/100],     Train Loss: 1.6190,     Train Accuracy: 0.3690,     Test Loss: 1.6025,     Accuracy: 0.3631\n",
            "Epoch [39/100],     Train Loss: 1.6092,     Train Accuracy: 0.3642,     Test Loss: 1.5886,     Accuracy: 0.3803\n",
            "Epoch [40/100],     Train Loss: 1.5945,     Train Accuracy: 0.3786,     Test Loss: 1.5858,     Accuracy: 0.3898\n",
            "Epoch [41/100],     Train Loss: 1.5925,     Train Accuracy: 0.3855,     Test Loss: 1.5801,     Accuracy: 0.3770\n",
            "Epoch [42/100],     Train Loss: 1.5853,     Train Accuracy: 0.3776,     Test Loss: 1.5701,     Accuracy: 0.3965\n",
            "Epoch [43/100],     Train Loss: 1.5758,     Train Accuracy: 0.3930,     Test Loss: 1.5625,     Accuracy: 0.3934\n",
            "Epoch [44/100],     Train Loss: 1.5711,     Train Accuracy: 0.3906,     Test Loss: 1.5448,     Accuracy: 0.4042\n",
            "Epoch [45/100],     Train Loss: 1.5516,     Train Accuracy: 0.4006,     Test Loss: 1.5527,     Accuracy: 0.3972\n",
            "Epoch [46/100],     Train Loss: 1.5564,     Train Accuracy: 0.3956,     Test Loss: 1.5349,     Accuracy: 0.4078\n",
            "Epoch [47/100],     Train Loss: 1.5408,     Train Accuracy: 0.4049,     Test Loss: 1.5277,     Accuracy: 0.4113\n",
            "Epoch [48/100],     Train Loss: 1.5356,     Train Accuracy: 0.4093,     Test Loss: 1.5230,     Accuracy: 0.4122\n",
            "Epoch [49/100],     Train Loss: 1.5299,     Train Accuracy: 0.4103,     Test Loss: 1.5142,     Accuracy: 0.4117\n"
          ]
        }
      ],
      "source": [
        "transformers = transforms.Compose([\n",
        "    transforms.ToTensor(),\n",
        "])\n",
        "\n",
        "print('fitting scaler')\n",
        "scaler = CustomStandardScaler(0, 0.25) #<- Pretty good - 37% accuracy on test set, 95% on training set\n",
        "\n",
        "scaler.fit(TrainingData.pixels.str.split().explode().astype(np.uint8).values.reshape(-1,48,48))\n",
        "\n",
        "print('making dataset')\n",
        "train_data = Data(TrainingData, transform=transformers, scaler=scaler)\n",
        "test_data = Data(FinalTestData, transform=transformers, scaler=scaler)\n",
        "\n",
        "print('making dataloader')\n",
        "train_loader = DataLoader(train_data, shuffle = True, batch_size=503370)\n",
        "test_loader = DataLoader(test_data, batch_size=7178, shuffle = True)\n",
        "\n",
        "print('making model')\n",
        "num_classes = 7\n",
        "device = torch.device('cuda' if torch.cuda.is_available() else 'cpu')\n",
        "model = CNN(num_classes).to(device)\n",
        "# criterion = nn.CrossEntropyLoss()\n",
        "criterion = CustomLoss()\n",
        "optimizer = optim.Adam(model.parameters(), lr=.01)\n",
        "\n",
        "num_epochs = 100\n",
        "\n",
        "print('backward')\n",
        "for epoch in range(num_epochs):\n",
        "    train_loss, train_accuracy = train(model, train_loader, criterion, optimizer, device)\n",
        "    test_loss, accuracy = evaluate(model, test_loader, criterion, device)\n",
        "    print(f\"Epoch [{epoch+1}/{num_epochs}], \\\n",
        "    Train Loss: {train_loss:.4f}, \\\n",
        "    Train Accuracy: {train_accuracy:.4f}, \\\n",
        "    Test Loss: {test_loss:.4f}, \\\n",
        "    Accuracy: {accuracy:.4f}\")"
      ]
    },
    {
      "cell_type": "code",
      "execution_count": null,
      "id": "3ee4963b",
      "metadata": {
        "id": "3ee4963b",
        "outputId": "705350f8-49f2-46b6-dd80-15e5308e9d48"
      },
      "outputs": [
        {
          "name": "stdout",
          "output_type": "stream",
          "text": [
            "fitting scaler\n",
            "making dataset\n",
            "Already fit\n",
            "Already fit\n",
            "making dataloader\n",
            "making model\n",
            "backward\n",
            "Epoch [1/100],     Train Loss: 2.0129,     Train Accuracy: 0.1428,     Test Loss: 2.1385,     Accuracy: 0.1728\n",
            "Epoch [2/100],     Train Loss: 2.2200,     Train Accuracy: 0.1429,     Test Loss: 1.9417,     Accuracy: 0.1694\n",
            "Epoch [3/100],     Train Loss: 1.9575,     Train Accuracy: 0.1428,     Test Loss: 1.9852,     Accuracy: 0.0152\n",
            "Epoch [4/100],     Train Loss: 1.9497,     Train Accuracy: 0.1428,     Test Loss: 1.9615,     Accuracy: 0.1427\n",
            "Epoch [5/100],     Train Loss: 1.9488,     Train Accuracy: 0.1428,     Test Loss: 1.9408,     Accuracy: 0.1427\n",
            "Epoch [6/100],     Train Loss: 1.9472,     Train Accuracy: 0.1428,     Test Loss: 1.9292,     Accuracy: 0.2350\n",
            "Epoch [7/100],     Train Loss: 1.9465,     Train Accuracy: 0.1490,     Test Loss: 1.9344,     Accuracy: 0.2545\n",
            "Epoch [8/100],     Train Loss: 1.9489,     Train Accuracy: 0.1471,     Test Loss: 1.9481,     Accuracy: 0.0318\n",
            "Epoch [9/100],     Train Loss: 1.9479,     Train Accuracy: 0.1477,     Test Loss: 1.9575,     Accuracy: 0.0280\n",
            "Epoch [10/100],     Train Loss: 1.9459,     Train Accuracy: 0.1541,     Test Loss: 1.9574,     Accuracy: 0.1383\n",
            "Epoch [11/100],     Train Loss: 1.9456,     Train Accuracy: 0.1487,     Test Loss: 1.9511,     Accuracy: 0.1428\n",
            "Epoch [12/100],     Train Loss: 1.9461,     Train Accuracy: 0.1436,     Test Loss: 1.9447,     Accuracy: 0.1339\n",
            "Epoch [13/100],     Train Loss: 1.9443,     Train Accuracy: 0.1696,     Test Loss: 1.9393,     Accuracy: 0.1519\n",
            "Epoch [14/100],     Train Loss: 1.9430,     Train Accuracy: 0.1700,     Test Loss: 1.9318,     Accuracy: 0.2516\n",
            "Epoch [15/100],     Train Loss: 1.9411,     Train Accuracy: 0.1565,     Test Loss: 1.9263,     Accuracy: 0.1721\n",
            "Epoch [16/100],     Train Loss: 1.9404,     Train Accuracy: 0.1503,     Test Loss: 1.9348,     Accuracy: 0.2435\n"
          ]
        },
        {
          "ename": "KeyboardInterrupt",
          "evalue": "",
          "output_type": "error",
          "traceback": [
            "\u001b[1;31m---------------------------------------------------------------------------\u001b[0m",
            "\u001b[1;31mKeyboardInterrupt\u001b[0m                         Traceback (most recent call last)",
            "Cell \u001b[1;32mIn[130], line 30\u001b[0m\n\u001b[0;32m     28\u001b[0m \u001b[38;5;28mprint\u001b[39m(\u001b[38;5;124m'\u001b[39m\u001b[38;5;124mbackward\u001b[39m\u001b[38;5;124m'\u001b[39m)\n\u001b[0;32m     29\u001b[0m \u001b[38;5;28;01mfor\u001b[39;00m epoch \u001b[38;5;129;01min\u001b[39;00m \u001b[38;5;28mrange\u001b[39m(num_epochs):\n\u001b[1;32m---> 30\u001b[0m     train_loss, train_accuracy \u001b[38;5;241m=\u001b[39m \u001b[43mtrain\u001b[49m\u001b[43m(\u001b[49m\u001b[43mmodel\u001b[49m\u001b[43m,\u001b[49m\u001b[43m \u001b[49m\u001b[43mtrain_loader\u001b[49m\u001b[43m,\u001b[49m\u001b[43m \u001b[49m\u001b[43mcriterion\u001b[49m\u001b[43m,\u001b[49m\u001b[43m \u001b[49m\u001b[43moptimizer\u001b[49m\u001b[43m,\u001b[49m\u001b[43m \u001b[49m\u001b[43mdevice\u001b[49m\u001b[43m)\u001b[49m\n\u001b[0;32m     31\u001b[0m     test_loss, accuracy \u001b[38;5;241m=\u001b[39m evaluate(model, test_loader, criterion, device)\n\u001b[0;32m     32\u001b[0m     \u001b[38;5;28mprint\u001b[39m(\u001b[38;5;124mf\u001b[39m\u001b[38;5;124m\"\u001b[39m\u001b[38;5;124mEpoch [\u001b[39m\u001b[38;5;132;01m{\u001b[39;00mepoch\u001b[38;5;241m+\u001b[39m\u001b[38;5;241m1\u001b[39m\u001b[38;5;132;01m}\u001b[39;00m\u001b[38;5;124m/\u001b[39m\u001b[38;5;132;01m{\u001b[39;00mnum_epochs\u001b[38;5;132;01m}\u001b[39;00m\u001b[38;5;124m], \u001b[39m\u001b[38;5;130;01m\\\u001b[39;00m\n\u001b[0;32m     33\u001b[0m \u001b[38;5;124m    Train Loss: \u001b[39m\u001b[38;5;132;01m{\u001b[39;00mtrain_loss\u001b[38;5;132;01m:\u001b[39;00m\u001b[38;5;124m.4f\u001b[39m\u001b[38;5;132;01m}\u001b[39;00m\u001b[38;5;124m, \u001b[39m\u001b[38;5;130;01m\\\u001b[39;00m\n\u001b[0;32m     34\u001b[0m \u001b[38;5;124m    Train Accuracy: \u001b[39m\u001b[38;5;132;01m{\u001b[39;00mtrain_accuracy\u001b[38;5;132;01m:\u001b[39;00m\u001b[38;5;124m.4f\u001b[39m\u001b[38;5;132;01m}\u001b[39;00m\u001b[38;5;124m, \u001b[39m\u001b[38;5;130;01m\\\u001b[39;00m\n\u001b[0;32m     35\u001b[0m \u001b[38;5;124m    Test Loss: \u001b[39m\u001b[38;5;132;01m{\u001b[39;00mtest_loss\u001b[38;5;132;01m:\u001b[39;00m\u001b[38;5;124m.4f\u001b[39m\u001b[38;5;132;01m}\u001b[39;00m\u001b[38;5;124m, \u001b[39m\u001b[38;5;130;01m\\\u001b[39;00m\n\u001b[0;32m     36\u001b[0m \u001b[38;5;124m    Accuracy: \u001b[39m\u001b[38;5;132;01m{\u001b[39;00maccuracy\u001b[38;5;132;01m:\u001b[39;00m\u001b[38;5;124m.4f\u001b[39m\u001b[38;5;132;01m}\u001b[39;00m\u001b[38;5;124m\"\u001b[39m)\n",
            "Cell \u001b[1;32mIn[122], line 9\u001b[0m, in \u001b[0;36mtrain\u001b[1;34m(model, dataloader, criterion, optimizer, device)\u001b[0m\n\u001b[0;32m      7\u001b[0m outputs \u001b[38;5;241m=\u001b[39m model(images)\n\u001b[0;32m      8\u001b[0m loss \u001b[38;5;241m=\u001b[39m criterion(outputs, labels)\n\u001b[1;32m----> 9\u001b[0m \u001b[43mloss\u001b[49m\u001b[38;5;241;43m.\u001b[39;49m\u001b[43mbackward\u001b[49m\u001b[43m(\u001b[49m\u001b[43m)\u001b[49m\n\u001b[0;32m     10\u001b[0m optimizer\u001b[38;5;241m.\u001b[39mstep()\n\u001b[0;32m     11\u001b[0m running_loss \u001b[38;5;241m+\u001b[39m\u001b[38;5;241m=\u001b[39m loss\u001b[38;5;241m.\u001b[39mitem()\n",
            "File \u001b[1;32md:\\Program Files\\Python312\\Lib\\site-packages\\torch\\_tensor.py:525\u001b[0m, in \u001b[0;36mTensor.backward\u001b[1;34m(self, gradient, retain_graph, create_graph, inputs)\u001b[0m\n\u001b[0;32m    515\u001b[0m \u001b[38;5;28;01mif\u001b[39;00m has_torch_function_unary(\u001b[38;5;28mself\u001b[39m):\n\u001b[0;32m    516\u001b[0m     \u001b[38;5;28;01mreturn\u001b[39;00m handle_torch_function(\n\u001b[0;32m    517\u001b[0m         Tensor\u001b[38;5;241m.\u001b[39mbackward,\n\u001b[0;32m    518\u001b[0m         (\u001b[38;5;28mself\u001b[39m,),\n\u001b[1;32m   (...)\u001b[0m\n\u001b[0;32m    523\u001b[0m         inputs\u001b[38;5;241m=\u001b[39minputs,\n\u001b[0;32m    524\u001b[0m     )\n\u001b[1;32m--> 525\u001b[0m \u001b[43mtorch\u001b[49m\u001b[38;5;241;43m.\u001b[39;49m\u001b[43mautograd\u001b[49m\u001b[38;5;241;43m.\u001b[39;49m\u001b[43mbackward\u001b[49m\u001b[43m(\u001b[49m\n\u001b[0;32m    526\u001b[0m \u001b[43m    \u001b[49m\u001b[38;5;28;43mself\u001b[39;49m\u001b[43m,\u001b[49m\u001b[43m \u001b[49m\u001b[43mgradient\u001b[49m\u001b[43m,\u001b[49m\u001b[43m \u001b[49m\u001b[43mretain_graph\u001b[49m\u001b[43m,\u001b[49m\u001b[43m \u001b[49m\u001b[43mcreate_graph\u001b[49m\u001b[43m,\u001b[49m\u001b[43m \u001b[49m\u001b[43minputs\u001b[49m\u001b[38;5;241;43m=\u001b[39;49m\u001b[43minputs\u001b[49m\n\u001b[0;32m    527\u001b[0m \u001b[43m\u001b[49m\u001b[43m)\u001b[49m\n",
            "File \u001b[1;32md:\\Program Files\\Python312\\Lib\\site-packages\\torch\\autograd\\__init__.py:267\u001b[0m, in \u001b[0;36mbackward\u001b[1;34m(tensors, grad_tensors, retain_graph, create_graph, grad_variables, inputs)\u001b[0m\n\u001b[0;32m    262\u001b[0m     retain_graph \u001b[38;5;241m=\u001b[39m create_graph\n\u001b[0;32m    264\u001b[0m \u001b[38;5;66;03m# The reason we repeat the same comment below is that\u001b[39;00m\n\u001b[0;32m    265\u001b[0m \u001b[38;5;66;03m# some Python versions print out the first line of a multi-line function\u001b[39;00m\n\u001b[0;32m    266\u001b[0m \u001b[38;5;66;03m# calls in the traceback and some print out the last line\u001b[39;00m\n\u001b[1;32m--> 267\u001b[0m \u001b[43m_engine_run_backward\u001b[49m\u001b[43m(\u001b[49m\n\u001b[0;32m    268\u001b[0m \u001b[43m    \u001b[49m\u001b[43mtensors\u001b[49m\u001b[43m,\u001b[49m\n\u001b[0;32m    269\u001b[0m \u001b[43m    \u001b[49m\u001b[43mgrad_tensors_\u001b[49m\u001b[43m,\u001b[49m\n\u001b[0;32m    270\u001b[0m \u001b[43m    \u001b[49m\u001b[43mretain_graph\u001b[49m\u001b[43m,\u001b[49m\n\u001b[0;32m    271\u001b[0m \u001b[43m    \u001b[49m\u001b[43mcreate_graph\u001b[49m\u001b[43m,\u001b[49m\n\u001b[0;32m    272\u001b[0m \u001b[43m    \u001b[49m\u001b[43minputs\u001b[49m\u001b[43m,\u001b[49m\n\u001b[0;32m    273\u001b[0m \u001b[43m    \u001b[49m\u001b[43mallow_unreachable\u001b[49m\u001b[38;5;241;43m=\u001b[39;49m\u001b[38;5;28;43;01mTrue\u001b[39;49;00m\u001b[43m,\u001b[49m\n\u001b[0;32m    274\u001b[0m \u001b[43m    \u001b[49m\u001b[43maccumulate_grad\u001b[49m\u001b[38;5;241;43m=\u001b[39;49m\u001b[38;5;28;43;01mTrue\u001b[39;49;00m\u001b[43m,\u001b[49m\n\u001b[0;32m    275\u001b[0m \u001b[43m\u001b[49m\u001b[43m)\u001b[49m\n",
            "File \u001b[1;32md:\\Program Files\\Python312\\Lib\\site-packages\\torch\\autograd\\graph.py:744\u001b[0m, in \u001b[0;36m_engine_run_backward\u001b[1;34m(t_outputs, *args, **kwargs)\u001b[0m\n\u001b[0;32m    742\u001b[0m     unregister_hooks \u001b[38;5;241m=\u001b[39m _register_logging_hooks_on_whole_graph(t_outputs)\n\u001b[0;32m    743\u001b[0m \u001b[38;5;28;01mtry\u001b[39;00m:\n\u001b[1;32m--> 744\u001b[0m     \u001b[38;5;28;01mreturn\u001b[39;00m \u001b[43mVariable\u001b[49m\u001b[38;5;241;43m.\u001b[39;49m\u001b[43m_execution_engine\u001b[49m\u001b[38;5;241;43m.\u001b[39;49m\u001b[43mrun_backward\u001b[49m\u001b[43m(\u001b[49m\u001b[43m  \u001b[49m\u001b[38;5;66;43;03m# Calls into the C++ engine to run the backward pass\u001b[39;49;00m\n\u001b[0;32m    745\u001b[0m \u001b[43m        \u001b[49m\u001b[43mt_outputs\u001b[49m\u001b[43m,\u001b[49m\u001b[43m \u001b[49m\u001b[38;5;241;43m*\u001b[39;49m\u001b[43margs\u001b[49m\u001b[43m,\u001b[49m\u001b[43m \u001b[49m\u001b[38;5;241;43m*\u001b[39;49m\u001b[38;5;241;43m*\u001b[39;49m\u001b[43mkwargs\u001b[49m\n\u001b[0;32m    746\u001b[0m \u001b[43m    \u001b[49m\u001b[43m)\u001b[49m  \u001b[38;5;66;03m# Calls into the C++ engine to run the backward pass\u001b[39;00m\n\u001b[0;32m    747\u001b[0m \u001b[38;5;28;01mfinally\u001b[39;00m:\n\u001b[0;32m    748\u001b[0m     \u001b[38;5;28;01mif\u001b[39;00m attach_logging_hooks:\n",
            "\u001b[1;31mKeyboardInterrupt\u001b[0m: "
          ]
        }
      ],
      "source": [
        "transformers = transforms.Compose([\n",
        "    transforms.ToTensor(),\n",
        "])\n",
        "\n",
        "print('fitting scaler')\n",
        "scaler = CustomMinMaxScaler()\n",
        "\n",
        "scaler.fit(TrainingData.pixels.str.split().explode().astype(np.uint8).values.reshape(-1,48,48))\n",
        "\n",
        "print('making dataset')\n",
        "train_data = Data(TrainingData, transform=transformers, scaler=scaler)\n",
        "test_data = Data(FinalTestData, transform=transformers, scaler=scaler)\n",
        "\n",
        "print('making dataloader')\n",
        "train_loader = DataLoader(train_data, shuffle = True, batch_size=503370)\n",
        "test_loader = DataLoader(test_data, batch_size=7178, shuffle = True)\n",
        "\n",
        "print('making model')\n",
        "num_classes = 7\n",
        "device = torch.device('cuda' if torch.cuda.is_available() else 'cpu')\n",
        "model = CNN(num_classes).to(device)\n",
        "# criterion = nn.CrossEntropyLoss()\n",
        "criterion = CustomLoss()\n",
        "optimizer = optim.Adam(model.parameters(), lr=.01)\n",
        "\n",
        "num_epochs = 100\n",
        "\n",
        "print('backward')\n",
        "for epoch in range(num_epochs):\n",
        "    train_loss, train_accuracy = train(model, train_loader, criterion, optimizer, device)\n",
        "    test_loss, accuracy = evaluate(model, test_loader, criterion, device)\n",
        "    print(f\"Epoch [{epoch+1}/{num_epochs}], \\\n",
        "    Train Loss: {train_loss:.4f}, \\\n",
        "    Train Accuracy: {train_accuracy:.4f}, \\\n",
        "    Test Loss: {test_loss:.4f}, \\\n",
        "    Accuracy: {accuracy:.4f}\")"
      ]
    },
    {
      "cell_type": "code",
      "execution_count": null,
      "id": "9165f479",
      "metadata": {
        "id": "9165f479"
      },
      "outputs": [],
      "source": [
        "# for images, labels in train_loader:\n",
        "#     print(1)\n",
        "\n",
        "y = model(images).argmax(axis=1)"
      ]
    },
    {
      "cell_type": "code",
      "execution_count": null,
      "id": "849fe4c8",
      "metadata": {
        "id": "849fe4c8"
      },
      "outputs": [],
      "source": [
        "yhat = labels.argmax(axis=1)"
      ]
    },
    {
      "cell_type": "code",
      "execution_count": null,
      "id": "58eba753",
      "metadata": {
        "id": "58eba753",
        "outputId": "a196d93c-3715-4344-f67b-4a6f66553554"
      },
      "outputs": [
        {
          "data": {
            "text/plain": [
              "tensor([4, 3, 2,  ..., 4, 3, 1])"
            ]
          },
          "execution_count": 117,
          "metadata": {},
          "output_type": "execute_result"
        }
      ],
      "source": [
        "yhat"
      ]
    },
    {
      "cell_type": "code",
      "execution_count": null,
      "id": "7acf837b",
      "metadata": {
        "id": "7acf837b",
        "outputId": "9f51013f-3c0f-4e2b-c052-90298bdc3af2"
      },
      "outputs": [
        {
          "data": {
            "text/plain": [
              "0.9295788637266588"
            ]
          },
          "execution_count": 121,
          "metadata": {},
          "output_type": "execute_result"
        }
      ],
      "source": [
        "(y == yhat).sum().item()/len(yhat)"
      ]
    }
  ],
  "metadata": {
    "kernelspec": {
      "display_name": "Python 3",
      "language": "python",
      "name": "python3"
    },
    "language_info": {
      "codemirror_mode": {
        "name": "ipython",
        "version": 3
      },
      "file_extension": ".py",
      "mimetype": "text/x-python",
      "name": "python",
      "nbconvert_exporter": "python",
      "pygments_lexer": "ipython3",
      "version": "3.12.1"
    },
    "colab": {
      "provenance": []
    }
  },
  "nbformat": 4,
  "nbformat_minor": 5
}